{
 "cells": [
  {
   "cell_type": "markdown",
   "metadata": {},
   "source": [
    "# Data analysis for MCMC calculations of energies\n",
    "## Problem 1c) Importance sampling\n",
    "### Fabian Faulstich and Yngve Mardal Moe"
   ]
  },
  {
   "cell_type": "code",
   "execution_count": 1,
   "metadata": {},
   "outputs": [],
   "source": [
    "# Base python imports\n",
    "import numpy as np\n",
    "import matplotlib.pyplot as plt\n",
    "import joblib\n",
    "from time import time\n",
    "from timeit import timeit\n",
    "\n",
    "# VMC imports\n",
    "from particles import Particles\n",
    "from wave_function import WaveFunction\n",
    "from sampler import MetropolisSampler, ImportanceSampler"
   ]
  },
  {
   "cell_type": "code",
   "execution_count": 2,
   "metadata": {},
   "outputs": [],
   "source": [
    "# Supress divide by zero warnings\n",
    "np.seterr(divide='ignore')\n",
    "\n",
    "# IPython magics\n",
    "%matplotlib inline\n",
    "%load_ext autoreload\n",
    "%autoreload 2"
   ]
  },
  {
   "cell_type": "markdown",
   "metadata": {},
   "source": [
    "### Problem 1 b):\n",
    "We start by defining a simple function that simulate the system according to the parameters given in problem 1b)"
   ]
  },
  {
   "cell_type": "code",
   "execution_count": 3,
   "metadata": {},
   "outputs": [],
   "source": [
    "def create_sampler(num_particles, num_dimensions, alpha, timestep, seed=None):\n",
    "    parts = Particles(\n",
    "        num_particles=num_particles, \n",
    "        num_dimensions=num_dimensions,\n",
    "        mass=1,\n",
    "        diameter=0.0043\n",
    "    )\n",
    "    wave_function = WaveFunction(\n",
    "        particles=parts,\n",
    "        alpha=alpha,\n",
    "        beta=1,\n",
    "        omega_ho=1,\n",
    "        omega_z=1\n",
    "    )\n",
    "    sampler = ImportanceSampler(\n",
    "        wave_function=wave_function,\n",
    "        timestep=timestep,\n",
    "        seed=seed\n",
    "    )\n",
    "    return sampler\n",
    "\n",
    "\n",
    "def simulate_simple(num_particles, num_dimensions, alpha, timestep,\n",
    "                    num_iterations, seed=None):\n",
    "    sampler = create_sampler(\n",
    "        num_particles=num_particles,\n",
    "        num_dimensions=num_dimensions,\n",
    "        alpha=alpha,\n",
    "        timestep=timestep,\n",
    "        seed=seed\n",
    "    )\n",
    "    return sampler.compute_local_energy(num_iterations)"
   ]
  },
  {
   "cell_type": "markdown",
   "metadata": {},
   "source": [
    "We now find good step sizes for our samplers."
   ]
  },
  {
   "cell_type": "code",
   "execution_count": 4,
   "metadata": {
    "collapsed": true
   },
   "outputs": [],
   "source": [
    "alphas = np.concatenate((np.logspace(-2, np.log(.5)/np.log(10), 3, base=10),np.logspace(0, 2, 2, base=10)))\n",
    "num_particles = np.array([1, 10])#, 100, 500])\n",
    "num_dimensions = np.array([3]) # 1, 2,\n",
    "samplers = {}\n"
   ]
  },
  {
   "cell_type": "code",
   "execution_count": 5,
   "metadata": {
    "collapsed": true
   },
   "outputs": [],
   "source": [
    "for alpha in alphas:\n",
    "    for n in num_particles:\n",
    "        for d in num_dimensions:\n",
    "            samplers[(alpha, n, d)] = create_sampler(n, d, alpha, 0.1)"
   ]
  },
  {
   "cell_type": "code",
   "execution_count": 6,
   "metadata": {
    "scrolled": false
   },
   "outputs": [
    {
     "name": "stdout",
     "output_type": "stream",
     "text": [
      "Params: (0.01, 1, 3)\n",
      "--------------------------------------------------\n"
     ]
    },
    {
     "name": "stderr",
     "output_type": "stream",
     "text": [
      "/home/yngve/anaconda3/lib/python3.6/site-packages/numpy/core/fromnumeric.py:2889: RuntimeWarning: Mean of empty slice.\n",
      "  out=out, **kwargs)\n",
      "/home/yngve/anaconda3/lib/python3.6/site-packages/numpy/core/_methods.py:80: RuntimeWarning: invalid value encountered in double_scalars\n",
      "  ret = ret.dtype.type(ret / rcount)\n"
     ]
    },
    {
     "name": "stdout",
     "output_type": "stream",
     "text": [
      "Found left bound, 0.1\n",
      "  With ar 1.0\n",
      "Found right bound, 51.2\n",
      "  With ar 0.816\n",
      "\n",
      "Starting iterations now\n",
      "    Iteration number 1 completed\n",
      "Found acceptable step size after 1 iterations\n",
      "Took 7.593598 seconds\n",
      "==================================================\n",
      "Params: (0.01, 10, 3)\n",
      "--------------------------------------------------\n",
      "Found left bound, 0.1\n",
      "  With ar 1.0\n",
      "Found right bound, 51.2\n",
      "  With ar 0.828\n",
      "\n",
      "Starting iterations now\n",
      "    Iteration number 1 completed\n",
      "    Iteration number 2 completed\n",
      "    Iteration number 3 completed\n",
      "    Iteration number 4 completed\n",
      "    Iteration number 5 completed\n",
      "    Iteration number 6 completed\n",
      "    Iteration number 7 completed\n",
      "Found acceptable step size after 7 iterations\n",
      "Took 10.930489 seconds\n",
      "==================================================\n",
      "Params: (0.070710678118654752, 1, 3)\n",
      "--------------------------------------------------\n",
      "Found left bound, 0.1\n",
      "  With ar 0.999\n",
      "Found right bound, 12.8\n",
      "  With ar 0.629\n",
      "\n",
      "Starting iterations now\n",
      "    Iteration number 1 completed\n",
      "    Iteration number 2 completed\n",
      "Found acceptable step size after 2 iterations\n",
      "Took 6.362630 seconds\n",
      "==================================================\n",
      "Params: (0.070710678118654752, 10, 3)\n",
      "--------------------------------------------------\n",
      "Found left bound, 0.1\n",
      "  With ar 0.999\n",
      "Found right bound, 12.8\n",
      "  With ar 0.633\n",
      "\n",
      "Starting iterations now\n",
      "    Iteration number 1 completed\n",
      "    Iteration number 2 completed\n",
      "    Iteration number 3 completed\n",
      "    Iteration number 4 completed\n",
      "    Iteration number 5 completed\n",
      "    Iteration number 6 completed\n",
      "    Iteration number 7 completed\n",
      "    Iteration number 8 completed\n",
      "    Iteration number 9 completed\n",
      "    Iteration number 10 completed\n",
      "    Iteration number 11 completed\n",
      "Found acceptable step size after 11 iterations\n",
      "Took 10.936736 seconds\n",
      "==================================================\n",
      "Params: (0.50000000000000011, 1, 3)\n",
      "--------------------------------------------------\n",
      "Found left bound, 0.1\n",
      "  With ar 0.985\n",
      "Found right bound, 1.6\n",
      "  With ar 0.712\n",
      "\n",
      "Starting iterations now\n",
      "    Iteration number 1 completed\n",
      "    Iteration number 2 completed\n",
      "Found acceptable step size after 2 iterations\n",
      "Took 5.163042 seconds\n",
      "==================================================\n",
      "Params: (0.50000000000000011, 10, 3)\n",
      "--------------------------------------------------\n",
      "Found left bound, 0.1\n",
      "  With ar 0.99\n",
      "Found right bound, 1.6\n",
      "  With ar 0.68\n",
      "\n",
      "Starting iterations now\n",
      "    Iteration number 1 completed\n",
      "    Iteration number 2 completed\n",
      "Found acceptable step size after 2 iterations\n",
      "Took 5.295430 seconds\n",
      "==================================================\n",
      "Params: (1.0, 1, 3)\n",
      "--------------------------------------------------\n",
      "Found left bound, 0.1\n",
      "  With ar 0.958\n",
      "Found right bound, 0.8\n",
      "  With ar 0.694\n",
      "\n",
      "Starting iterations now\n",
      "    Iteration number 1 completed\n",
      "    Iteration number 2 completed\n",
      "Found acceptable step size after 2 iterations\n",
      "Took 3.654469 seconds\n",
      "==================================================\n",
      "Params: (1.0, 10, 3)\n",
      "--------------------------------------------------\n",
      "Found left bound, 0.1\n",
      "  With ar 0.953\n",
      "Found right bound, 0.8\n",
      "  With ar 0.694\n",
      "\n",
      "Starting iterations now\n",
      "    Iteration number 1 completed\n",
      "    Iteration number 2 completed\n",
      "    Iteration number 3 completed\n",
      "    Iteration number 4 completed\n",
      "Found acceptable step size after 4 iterations\n",
      "Took 5.230799 seconds\n",
      "==================================================\n",
      "Params: (100.0, 1, 3)\n",
      "--------------------------------------------------\n",
      "Found left bound, 0.00078125\n",
      "  With ar 0.93\n",
      "Found right bound, 0.1\n",
      "  With ar 0.0\n",
      "\n",
      "Starting iterations now\n",
      "    Iteration number 1 completed\n",
      "    Iteration number 2 completed\n",
      "    Iteration number 3 completed\n",
      "    Iteration number 4 completed\n",
      "    Iteration number 5 completed\n",
      "    Iteration number 6 completed\n",
      "Found acceptable step size after 6 iterations\n",
      "Took 5.427565 seconds\n",
      "==================================================\n",
      "Params: (100.0, 10, 3)\n",
      "--------------------------------------------------\n"
     ]
    },
    {
     "name": "stderr",
     "output_type": "stream",
     "text": [
      "/home/yngve/Dropbox/Skole/UiO/FYS4411/FYS4411-VMC/python/sampler.py:210: RuntimeWarning: invalid value encountered in longdouble_scalars\n",
      "  return self.greens_ratio*self.P/(self._old_P)\n"
     ]
    },
    {
     "name": "stdout",
     "output_type": "stream",
     "text": [
      "Found left bound, 0.00078125\n",
      "  With ar 0.933\n",
      "Found right bound, 0.1\n",
      "  With ar 0.0\n",
      "\n",
      "Starting iterations now\n",
      "    Iteration number 1 completed\n",
      "    Iteration number 2 completed\n",
      "    Iteration number 3 completed\n",
      "    Iteration number 4 completed\n",
      "    Iteration number 5 completed\n",
      "    Iteration number 6 completed\n",
      "Found acceptable step size after 6 iterations\n",
      "Took 6.215864 seconds\n",
      "==================================================\n",
      "(0.01, 1, 3): step_size: 25.650000, acceptance_ratio: 0.856000\n",
      "(0.01, 10, 3): step_size: 23.653906, acceptance_ratio: 0.852000\n",
      "(0.070710678118654752, 1, 3): step_size: 3.275000, acceptance_ratio: 0.844000\n",
      "(0.070710678118654752, 10, 3): step_size: 3.479639, acceptance_ratio: 0.854000\n",
      "(0.50000000000000011, 1, 3): step_size: 0.475000, acceptance_ratio: 0.849000\n",
      "(0.50000000000000011, 10, 3): step_size: 0.475000, acceptance_ratio: 0.852000\n",
      "(1.0, 1, 3): step_size: 0.275000, acceptance_ratio: 0.845000\n",
      "(1.0, 10, 3): step_size: 0.231250, acceptance_ratio: 0.858000\n",
      "(100.0, 1, 3): step_size: 0.002332, acceptance_ratio: 0.857000\n",
      "(100.0, 10, 3): step_size: 0.002332, acceptance_ratio: 0.851000\n"
     ]
    }
   ],
   "source": [
    "acceptance_ratios = {}\n",
    "for params, sampler in samplers.items():\n",
    "    print(f'Params: {params}')\n",
    "    print('-'*50)\n",
    "    t0 = time()\n",
    "    try:\n",
    "        acceptance_ratios[params] = sampler.find_ideal_step_size(\n",
    "            delta=0.01,\n",
    "            ideal=0.85,\n",
    "            num_iterations=1000,\n",
    "            verbose=True\n",
    "        )\n",
    "    except RuntimeError:\n",
    "        print('Failed to find ideal step size, we try again with a larger'\n",
    "              'number of iterations.')\n",
    "        print('-'*50)\n",
    "        acceptance_ratios[params] = sampler.find_ideal_step_size(\n",
    "            delta=0.01,\n",
    "            ideal=0.85,\n",
    "            num_iterations=2000,\n",
    "            verbose=True\n",
    "        )\n",
    "    print(f'Took {time()-t0:3f} seconds')\n",
    "    print('='*50)\n",
    "\n",
    "for params, ratios in acceptance_ratios.items():\n",
    "    print(f'{params}: step_size: {ratios[0]:03f}, acceptance_ratio: {ratios[1]:03f}')"
   ]
  },
  {
   "cell_type": "markdown",
   "metadata": {},
   "source": [
    "-------\n",
    "With step sizes found, we compute the energies and compare them to the true energies.\n",
    "\n",
    "The local energy of a harmonic oscillator (which the non-interacting case is) is given by\n",
    "$$nd\\alpha + ||\\vec{r}||^2\\left[\\frac{1}{2} - 2 \\alpha^2\\right],$$\n",
    "where $n$ is the number of particles and $d$ is the number of dimensions of the system.\n",
    "\n",
    "We then compute the expected value $\\mathbb{E}[E_L]$ using $\\hbar = m = \\omega_{ho} = \\omega_\\ = 1$ and get\n",
    "$$\\mathbb{E}[E_L] = \\frac{nd}{4\\alpha}$$\n",
    "\n",
    "Let us now check if these match the simulated parameters.\n",
    "\n",
    "Before we do that, we \"warm up\" the samplers so that the particles have reasonable initial conditions and time this to get an estimate of how long time the MCMC iterations will take."
   ]
  },
  {
   "cell_type": "code",
   "execution_count": 7,
   "metadata": {
    "scrolled": true
   },
   "outputs": [
    {
     "name": "stdout",
     "output_type": "stream",
     "text": [
      "(0.01, 1, 3)\n",
      "(0.01, 10, 3)\n",
      "(0.070710678118654752, 1, 3)\n",
      "(0.070710678118654752, 10, 3)\n",
      "(0.50000000000000011, 1, 3)\n",
      "(0.50000000000000011, 10, 3)\n",
      "(1.0, 1, 3)\n",
      "(1.0, 10, 3)\n",
      "(100.0, 1, 3)\n",
      "(100.0, 10, 3)\n"
     ]
    }
   ],
   "source": [
    "acceptance_ratios = {}\n",
    "for param, sampler in samplers.items():\n",
    "    print(param)\n",
    "    acceptance_ratios[param] = sampler.compute_acceptance_ratio(1000)"
   ]
  },
  {
   "cell_type": "code",
   "execution_count": 8,
   "metadata": {},
   "outputs": [
    {
     "name": "stdout",
     "output_type": "stream",
     "text": [
      "(0.01, 1, 3)\n",
      "(0.01, 10, 3)\n",
      "(0.070710678118654752, 1, 3)\n",
      "(0.070710678118654752, 10, 3)\n",
      "(0.50000000000000011, 1, 3)\n",
      "(0.50000000000000011, 10, 3)\n",
      "(1.0, 1, 3)\n",
      "(1.0, 10, 3)\n",
      "(100.0, 1, 3)\n",
      "(100.0, 10, 3)\n"
     ]
    }
   ],
   "source": [
    "energies = {}\n",
    "variances = {}\n",
    "for param, sampler in samplers.items():\n",
    "    print(param)\n",
    "    e, v = sampler.compute_local_energy(1000)\n",
    "    energies[param] = e\n",
    "    variances[param] = v"
   ]
  },
  {
   "cell_type": "code",
   "execution_count": 13,
   "metadata": {
    "scrolled": true
   },
   "outputs": [
    {
     "name": "stdout",
     "output_type": "stream",
     "text": [
      "| Alpha |  n  | d | Computed energy | True energy |   Error   |   Variances  | Acceptance rate |\n",
      "|-------|-----|---|-----------------|-------------|-----------|--------------|-----------------|\n",
      "0.07759403154\n",
      "0.00577112899812\n",
      "0.0151461041394\n",
      "-0.0230484379473\n",
      "0.0\n",
      "0.0\n",
      "-0.0209147816201\n",
      "-0.0347081064092\n",
      "0.0287590350476\n",
      "0.018437592307\n"
     ]
    }
   ],
   "source": [
    "def expected_energy(parameters):\n",
    "    return np.prod(parameters)/2 + parameters[1]*parameters[2]/(parameters[0]*8)\n",
    "\n",
    "acceptance_ratios = {param: sampler.acceptance_ratio for param, sampler in samplers.items()}\n",
    "\n",
    "print('| Alpha |  n  | d | Computed energy | True energy |   Error   |   Variances  | Acceptance rate |')\n",
    "print('|-------|-----|---|-----------------|-------------|-----------|--------------|-----------------|')\n",
    "for param, energy in energies.items():\n",
    "    print(f'|{param[0]:6.3f} |{param[1]:4d} | {param[2]} |{energy:16.4f} |{expected_energy(param):12.3f} |{energy - expected_energy(param):10.3f} | {variances[param]:12.1f} |  {acceptance_ratios[param]:14.4f} |')"
   ]
  },
  {
   "cell_type": "markdown",
   "metadata": {},
   "source": [
    "This table comes from copying the above output\n",
    "\n",
    "| Alpha |  n  | d | Computed energy | True energy |   Error   |   Variances  | Acceptance rate |\n",
    "|-------|-----|---|-----------------|-------------|-----------|--------------|-----------------|\n",
    "| 0.010 |   1 | 1 |          7.7851 |      12.505 |    -4.720 |        132.4 |          0.8025 |\n",
    "| 0.010 |   1 | 2 |         11.8874 |      25.010 |   -13.123 |        165.6 |          0.8165 |\n",
    "| 0.010 |   1 | 3 |         23.3768 |      37.515 |   -14.138 |        346.8 |          0.7975 |\n",
    "| 0.010 |  10 | 1 |         63.6476 |     125.050 |   -61.402 |        909.7 |          0.7885 |\n",
    "| 0.010 |  10 | 2 |        124.3144 |     250.100 |  -125.786 |       2203.1 |          0.7930 |\n",
    "| 0.010 |  10 | 3 |        168.0565 |     375.150 |  -207.093 |       2300.4 |          0.8040 |\n",
    "| 0.027 |   1 | 1 |          2.5254 |       4.714 |    -2.189 |         12.3 |          0.8130 |\n",
    "| 0.027 |   1 | 2 |          4.0483 |       9.428 |    -5.380 |         14.1 |          0.7685 |\n",
    "| 0.027 |   1 | 3 |          6.7754 |      14.142 |    -7.367 |         34.7 |          0.7925 |\n",
    "| 0.027 |  10 | 1 |         22.3944 |      47.140 |   -24.746 |         91.6 |          0.8065 |\n",
    "| 0.027 |  10 | 2 |         52.9504 |      94.281 |   -41.331 |        246.0 |          0.7960 |\n",
    "| 0.027 |  10 | 3 |         67.6719 |     141.421 |   -73.750 |        154.7 |          0.8105 |\n",
    "| 0.071 |   1 | 1 |          0.9597 |       1.803 |    -0.843 |          1.4 |          0.7870 |\n",
    "| 0.071 |   1 | 2 |          1.9669 |       3.606 |    -1.639 |          3.1 |          0.7900 |\n",
    "| 0.071 |   1 | 3 |          2.9783 |       5.409 |    -2.431 |          5.4 |          0.8060 |\n",
    "| 0.071 |  10 | 1 |         10.3897 |      18.031 |    -7.641 |         11.3 |          0.7770 |\n",
    "| 0.071 |  10 | 2 |         21.1092 |      36.062 |   -14.953 |         52.3 |          0.7820 |\n",
    "| 0.071 |  10 | 3 |         27.3985 |      54.094 |   -26.695 |         26.1 |          0.8125 |\n",
    "| 0.188 |   1 | 1 |          0.4594 |       0.759 |    -0.299 |          0.1 |          0.7885 |\n",
    "| 0.188 |   1 | 2 |          1.0388 |       1.518 |    -0.479 |          0.7 |          0.8015 |\n",
    "| 0.188 |   1 | 3 |          1.4108 |       2.276 |    -0.866 |          0.4 |          0.7945 |\n",
    "| 0.188 |  10 | 1 |          4.3130 |       7.588 |    -3.275 |          1.1 |          0.7980 |\n",
    "| 0.188 |  10 | 2 |          9.6284 |      15.176 |    -5.548 |          3.7 |          0.7900 |\n",
    "| 0.188 |  10 | 3 |         13.7083 |      22.764 |    -9.056 |          2.6 |          0.8045 |\n",
    "| 0.500 |   1 | 1 |          0.5000 |       0.500 |     0.000 |          0.0 |          0.8065 |\n",
    "| 0.500 |   1 | 2 |          1.0000 |       1.000 |     0.000 |          0.0 |          0.8060 |\n",
    "| 0.500 |   1 | 3 |          1.5000 |       1.500 |     0.000 |          0.0 |          0.7870 |\n",
    "| 0.500 |  10 | 1 |          5.0000 |       5.000 |     0.000 |          0.0 |          0.7830 |\n",
    "| 0.500 |  10 | 2 |         10.0000 |      10.000 |     0.000 |          0.0 |          0.8095 |\n",
    "| 0.500 |  10 | 3 |         15.0000 |      15.000 |     0.000 |          0.0 |          0.7865 |"
   ]
  },
  {
   "cell_type": "markdown",
   "metadata": {},
   "source": [
    "Thus, we see that our MCMC sampler does indeed seem to give the correct result for the non-interacting case.\n",
    "\n",
    "----------------------\n",
    "## Timings\n",
    "Let us now see what the complexity of the MCMC sampler is. Here, $m$ denote the number of iterations, $n$ the number of particles and $d$ the number of dimensions.\n",
    "\n",
    "We choose alpha equal to 0.5 for these tests.\n",
    "\n",
    "The computational complexity scales linearly with the number of iterations, $m$, as each iteration does the exact same thing. We therefore only need to test the computational complexity wrt $n$ and $d$."
   ]
  },
  {
   "cell_type": "code",
   "execution_count": 10,
   "metadata": {
    "collapsed": true
   },
   "outputs": [],
   "source": [
    "alpha = 0.5\n",
    "num_particles = np.logspace(0, 2, 10, dtype=int)\n",
    "num_dimensions = np.array([1, 2, 3])\n",
    "speed_samplers = {}\n",
    "\n",
    "for n in num_particles:\n",
    "    for d in num_dimensions:\n",
    "        speed_samplers[(n, d)] = create_sampler(n, d, alpha, 0.1)"
   ]
  },
  {
   "cell_type": "code",
   "execution_count": 11,
   "metadata": {
    "scrolled": true
   },
   "outputs": [
    {
     "name": "stdout",
     "output_type": "stream",
     "text": [
      "0\n"
     ]
    },
    {
     "name": "stderr",
     "output_type": "stream",
     "text": [
      "/home/yngve/anaconda3/lib/python3.6/site-packages/numpy/core/fromnumeric.py:2889: RuntimeWarning: Mean of empty slice.\n",
      "  out=out, **kwargs)\n",
      "/home/yngve/anaconda3/lib/python3.6/site-packages/numpy/core/_methods.py:80: RuntimeWarning: invalid value encountered in double_scalars\n",
      "  ret = ret.dtype.type(ret / rcount)\n"
     ]
    },
    {
     "name": "stdout",
     "output_type": "stream",
     "text": [
      "Found left bound, 0.1\n",
      "  With ar 0.993\n",
      "Found right bound, 1.6\n",
      "  With ar 0.842\n",
      "\n",
      "Starting iterations now\n",
      "    Iteration number 1 completed\n",
      "    Iteration number 2 completed\n",
      "    Iteration number 3 completed\n",
      "    Iteration number 4 completed\n",
      "Found acceptable step size after 4 iterations\n",
      "1\n",
      "Found left bound, 0.1\n",
      "  With ar 0.988\n",
      "Found right bound, 1.6\n",
      "  With ar 0.752\n",
      "\n",
      "Starting iterations now\n",
      "    Iteration number 1 completed\n",
      "    Iteration number 2 completed\n",
      "    Iteration number 3 completed\n",
      "    Iteration number 4 completed\n",
      "    Iteration number 5 completed\n",
      "Found acceptable step size after 5 iterations\n",
      "2\n",
      "Found left bound, 0.1\n",
      "  With ar 0.986\n",
      "Found right bound, 0.8\n",
      "  With ar 0.889\n",
      "\n",
      "Starting iterations now\n",
      "    Iteration number 1 completed\n",
      "    Iteration number 2 completed\n",
      "    Iteration number 3 completed\n",
      "Found acceptable step size after 3 iterations\n",
      "3\n",
      "Found left bound, 0.1\n",
      "  With ar 0.992\n",
      "Found right bound, 1.6\n",
      "  With ar 0.849\n",
      "\n",
      "Starting iterations now\n",
      "    Iteration number 1 completed\n",
      "    Iteration number 2 completed\n",
      "    Iteration number 3 completed\n",
      "    Iteration number 4 completed\n",
      "    Iteration number 5 completed\n",
      "Found acceptable step size after 5 iterations\n",
      "4\n",
      "Found left bound, 0.1\n",
      "  With ar 0.994\n"
     ]
    },
    {
     "ename": "KeyboardInterrupt",
     "evalue": "",
     "output_type": "error",
     "traceback": [
      "\u001b[0;31m---------------------------------------------------------------------------\u001b[0m",
      "\u001b[0;31mKeyboardInterrupt\u001b[0m                         Traceback (most recent call last)",
      "\u001b[0;32m<ipython-input-11-e4de8fcd1983>\u001b[0m in \u001b[0;36m<module>\u001b[0;34m()\u001b[0m\n\u001b[1;32m      1\u001b[0m \u001b[0;32mfor\u001b[0m \u001b[0mi\u001b[0m\u001b[0;34m,\u001b[0m \u001b[0msampler\u001b[0m \u001b[0;32min\u001b[0m \u001b[0menumerate\u001b[0m\u001b[0;34m(\u001b[0m\u001b[0mspeed_samplers\u001b[0m\u001b[0;34m.\u001b[0m\u001b[0mvalues\u001b[0m\u001b[0;34m(\u001b[0m\u001b[0;34m)\u001b[0m\u001b[0;34m)\u001b[0m\u001b[0;34m:\u001b[0m\u001b[0;34m\u001b[0m\u001b[0m\n\u001b[1;32m      2\u001b[0m     \u001b[0mprint\u001b[0m\u001b[0;34m(\u001b[0m\u001b[0mi\u001b[0m\u001b[0;34m)\u001b[0m\u001b[0;34m\u001b[0m\u001b[0m\n\u001b[0;32m----> 3\u001b[0;31m     \u001b[0msampler\u001b[0m\u001b[0;34m.\u001b[0m\u001b[0mfind_ideal_step_size\u001b[0m\u001b[0;34m(\u001b[0m\u001b[0;36m0.01\u001b[0m\u001b[0;34m,\u001b[0m \u001b[0;36m0.9\u001b[0m\u001b[0;34m,\u001b[0m \u001b[0mnum_iterations\u001b[0m\u001b[0;34m=\u001b[0m\u001b[0;36m1000\u001b[0m\u001b[0;34m,\u001b[0m \u001b[0mverbose\u001b[0m\u001b[0;34m=\u001b[0m\u001b[0;32mTrue\u001b[0m\u001b[0;34m)\u001b[0m\u001b[0;34m\u001b[0m\u001b[0m\n\u001b[0m",
      "\u001b[0;32m/home/yngve/Dropbox/Skole/UiO/FYS4411/FYS4411-VMC/python/sampler.py\u001b[0m in \u001b[0;36mfind_ideal_step_size\u001b[0;34m(self, delta, ideal, num_iterations, verbose)\u001b[0m\n\u001b[1;32m    145\u001b[0m             \u001b[0mself\u001b[0m\u001b[0;34m.\u001b[0m\u001b[0mstep_size\u001b[0m \u001b[0;34m=\u001b[0m \u001b[0mstep_size2\u001b[0m\u001b[0;34m\u001b[0m\u001b[0m\n\u001b[1;32m    146\u001b[0m             \u001b[0mstep_size2\u001b[0m \u001b[0;34m*=\u001b[0m \u001b[0;36m2\u001b[0m\u001b[0;34m\u001b[0m\u001b[0m\n\u001b[0;32m--> 147\u001b[0;31m             \u001b[0mar2\u001b[0m \u001b[0;34m=\u001b[0m \u001b[0mself\u001b[0m\u001b[0;34m.\u001b[0m\u001b[0mcompute_acceptance_ratio\u001b[0m\u001b[0;34m(\u001b[0m\u001b[0mnum_iterations\u001b[0m\u001b[0;34m)\u001b[0m\u001b[0;34m\u001b[0m\u001b[0m\n\u001b[0m\u001b[1;32m    148\u001b[0m \u001b[0;34m\u001b[0m\u001b[0m\n\u001b[1;32m    149\u001b[0m         \u001b[0;32mif\u001b[0m \u001b[0mverbose\u001b[0m\u001b[0;34m:\u001b[0m\u001b[0;34m\u001b[0m\u001b[0m\n",
      "\u001b[0;32m/home/yngve/Dropbox/Skole/UiO/FYS4411/FYS4411-VMC/python/sampler.py\u001b[0m in \u001b[0;36mcompute_acceptance_ratio\u001b[0;34m(self, num_iterations)\u001b[0m\n\u001b[1;32m    104\u001b[0m     \u001b[0;32mdef\u001b[0m \u001b[0mcompute_acceptance_ratio\u001b[0m\u001b[0;34m(\u001b[0m\u001b[0mself\u001b[0m\u001b[0;34m,\u001b[0m \u001b[0mnum_iterations\u001b[0m\u001b[0;34m=\u001b[0m\u001b[0;36m100\u001b[0m\u001b[0;34m)\u001b[0m\u001b[0;34m:\u001b[0m\u001b[0;34m\u001b[0m\u001b[0m\n\u001b[1;32m    105\u001b[0m         \u001b[0mself\u001b[0m\u001b[0;34m.\u001b[0m\u001b[0macceptance_list\u001b[0m \u001b[0;34m=\u001b[0m \u001b[0;34m[\u001b[0m\u001b[0;34m]\u001b[0m\u001b[0;34m\u001b[0m\u001b[0m\n\u001b[0;32m--> 106\u001b[0;31m         \u001b[0mself\u001b[0m\u001b[0;34m.\u001b[0m\u001b[0mwarm_up\u001b[0m\u001b[0;34m(\u001b[0m\u001b[0mnum_iterations\u001b[0m\u001b[0;34m)\u001b[0m\u001b[0;34m\u001b[0m\u001b[0m\n\u001b[0m\u001b[1;32m    107\u001b[0m         \u001b[0;32mreturn\u001b[0m \u001b[0mself\u001b[0m\u001b[0;34m.\u001b[0m\u001b[0macceptance_ratio\u001b[0m\u001b[0;34m\u001b[0m\u001b[0m\n\u001b[1;32m    108\u001b[0m \u001b[0;34m\u001b[0m\u001b[0m\n",
      "\u001b[0;32m/home/yngve/Dropbox/Skole/UiO/FYS4411/FYS4411-VMC/python/sampler.py\u001b[0m in \u001b[0;36mwarm_up\u001b[0;34m(self, num_steps)\u001b[0m\n\u001b[1;32m     64\u001b[0m         \"\"\"\n\u001b[1;32m     65\u001b[0m         \u001b[0;32mfor\u001b[0m \u001b[0m_\u001b[0m \u001b[0;32min\u001b[0m \u001b[0mrange\u001b[0m\u001b[0;34m(\u001b[0m\u001b[0mnum_steps\u001b[0m\u001b[0;34m)\u001b[0m\u001b[0;34m:\u001b[0m\u001b[0;34m\u001b[0m\u001b[0m\n\u001b[0;32m---> 66\u001b[0;31m             \u001b[0mself\u001b[0m\u001b[0;34m.\u001b[0m\u001b[0msingle_step\u001b[0m\u001b[0;34m(\u001b[0m\u001b[0;34m)\u001b[0m\u001b[0;34m\u001b[0m\u001b[0m\n\u001b[0m\u001b[1;32m     67\u001b[0m \u001b[0;34m\u001b[0m\u001b[0m\n\u001b[1;32m     68\u001b[0m     \u001b[0;32mdef\u001b[0m \u001b[0mcompute_local_energy\u001b[0m\u001b[0;34m(\u001b[0m\u001b[0mself\u001b[0m\u001b[0;34m,\u001b[0m \u001b[0mnum_steps\u001b[0m\u001b[0;34m)\u001b[0m\u001b[0;34m:\u001b[0m\u001b[0;34m\u001b[0m\u001b[0m\n",
      "\u001b[0;32m/home/yngve/Dropbox/Skole/UiO/FYS4411/FYS4411-VMC/python/sampler.py\u001b[0m in \u001b[0;36msingle_step\u001b[0;34m(self)\u001b[0m\n\u001b[1;32m     37\u001b[0m         \"\"\"Perform a single MCMC iteration. \n\u001b[1;32m     38\u001b[0m         \"\"\"\n\u001b[0;32m---> 39\u001b[0;31m         \u001b[0mself\u001b[0m\u001b[0;34m.\u001b[0m\u001b[0m_propose_perturbation\u001b[0m\u001b[0;34m(\u001b[0m\u001b[0;34m)\u001b[0m\u001b[0;34m\u001b[0m\u001b[0m\n\u001b[0m\u001b[1;32m     40\u001b[0m         \u001b[0mself\u001b[0m\u001b[0;34m.\u001b[0m\u001b[0mP\u001b[0m \u001b[0;34m=\u001b[0m \u001b[0mself\u001b[0m\u001b[0;34m.\u001b[0m\u001b[0mwave_function\u001b[0m\u001b[0;34m(\u001b[0m\u001b[0;34m)\u001b[0m\u001b[0;34m**\u001b[0m\u001b[0;36m2\u001b[0m\u001b[0;34m\u001b[0m\u001b[0m\n\u001b[1;32m     41\u001b[0m         \u001b[0;32mif\u001b[0m \u001b[0mself\u001b[0m\u001b[0;34m.\u001b[0m\u001b[0m_keep_position\u001b[0m\u001b[0;34m:\u001b[0m\u001b[0;34m\u001b[0m\u001b[0m\n",
      "\u001b[0;32m/home/yngve/Dropbox/Skole/UiO/FYS4411/FYS4411-VMC/python/sampler.py\u001b[0m in \u001b[0;36m_propose_perturbation\u001b[0;34m(self)\u001b[0m\n\u001b[1;32m    220\u001b[0m                                                       self._current_particle)\n\u001b[1;32m    221\u001b[0m \u001b[0;34m\u001b[0m\u001b[0m\n\u001b[0;32m--> 222\u001b[0;31m         \u001b[0mself\u001b[0m\u001b[0;34m.\u001b[0m\u001b[0m_update_greens\u001b[0m\u001b[0;34m(\u001b[0m\u001b[0mperturbation\u001b[0m\u001b[0;34m)\u001b[0m\u001b[0;34m\u001b[0m\u001b[0m\n\u001b[0m\u001b[1;32m    223\u001b[0m         \u001b[0mself\u001b[0m\u001b[0;34m.\u001b[0m\u001b[0m_current_particle\u001b[0m \u001b[0;34m=\u001b[0m \u001b[0;34m(\u001b[0m\u001b[0mself\u001b[0m\u001b[0;34m.\u001b[0m\u001b[0m_current_particle\u001b[0m\u001b[0;34m+\u001b[0m\u001b[0;36m1\u001b[0m\u001b[0;34m)\u001b[0m\u001b[0;34m%\u001b[0m\u001b[0mself\u001b[0m\u001b[0;34m.\u001b[0m\u001b[0m_num_particles\u001b[0m\u001b[0;34m\u001b[0m\u001b[0m\n\u001b[1;32m    224\u001b[0m \u001b[0;34m\u001b[0m\u001b[0m\n",
      "\u001b[0;32m/home/yngve/Dropbox/Skole/UiO/FYS4411/FYS4411-VMC/python/sampler.py\u001b[0m in \u001b[0;36m_update_greens\u001b[0;34m(self, perturbation)\u001b[0m\n\u001b[1;32m    253\u001b[0m \u001b[0;34m\u001b[0m\u001b[0m\n\u001b[1;32m    254\u001b[0m     \u001b[0;32mdef\u001b[0m \u001b[0m_update_greens\u001b[0m\u001b[0;34m(\u001b[0m\u001b[0mself\u001b[0m\u001b[0;34m,\u001b[0m \u001b[0mperturbation\u001b[0m\u001b[0;34m)\u001b[0m\u001b[0;34m:\u001b[0m\u001b[0;34m\u001b[0m\u001b[0m\n\u001b[0;32m--> 255\u001b[0;31m         \u001b[0mself\u001b[0m\u001b[0;34m.\u001b[0m\u001b[0mF\u001b[0m \u001b[0;34m=\u001b[0m \u001b[0mself\u001b[0m\u001b[0;34m.\u001b[0m\u001b[0mwave_function\u001b[0m\u001b[0;34m.\u001b[0m\u001b[0mquantum_force\u001b[0m\u001b[0;34m\u001b[0m\u001b[0m\n\u001b[0m\u001b[1;32m    256\u001b[0m         \u001b[0mdelta_F\u001b[0m \u001b[0;34m=\u001b[0m \u001b[0mself\u001b[0m\u001b[0;34m.\u001b[0m\u001b[0mF\u001b[0m\u001b[0;34m[\u001b[0m\u001b[0mself\u001b[0m\u001b[0;34m.\u001b[0m\u001b[0m_current_particle\u001b[0m\u001b[0;34m]\u001b[0m \u001b[0;34m-\u001b[0m \u001b[0mself\u001b[0m\u001b[0;34m.\u001b[0m\u001b[0m_old_F\u001b[0m\u001b[0;34m[\u001b[0m\u001b[0mself\u001b[0m\u001b[0;34m.\u001b[0m\u001b[0m_current_particle\u001b[0m\u001b[0;34m]\u001b[0m\u001b[0;34m\u001b[0m\u001b[0m\n\u001b[1;32m    257\u001b[0m         \u001b[0mF_sum\u001b[0m \u001b[0;34m=\u001b[0m \u001b[0mself\u001b[0m\u001b[0;34m.\u001b[0m\u001b[0mF\u001b[0m\u001b[0;34m[\u001b[0m\u001b[0mself\u001b[0m\u001b[0;34m.\u001b[0m\u001b[0m_current_particle\u001b[0m\u001b[0;34m]\u001b[0m \u001b[0;34m+\u001b[0m \u001b[0mself\u001b[0m\u001b[0;34m.\u001b[0m\u001b[0m_old_F\u001b[0m\u001b[0;34m[\u001b[0m\u001b[0mself\u001b[0m\u001b[0;34m.\u001b[0m\u001b[0m_current_particle\u001b[0m\u001b[0;34m]\u001b[0m\u001b[0;34m\u001b[0m\u001b[0m\n",
      "\u001b[0;32m/home/yngve/Dropbox/Skole/UiO/FYS4411/FYS4411-VMC/python/wave_function.py\u001b[0m in \u001b[0;36mquantum_force\u001b[0;34m(self)\u001b[0m\n\u001b[1;32m    173\u001b[0m         \u001b[0mrel_diffs\u001b[0m \u001b[0;34m=\u001b[0m \u001b[0mself\u001b[0m\u001b[0;34m.\u001b[0m\u001b[0mparticles\u001b[0m\u001b[0;34m.\u001b[0m\u001b[0mrelative_differences\u001b[0m\u001b[0;34m\u001b[0m\u001b[0m\n\u001b[1;32m    174\u001b[0m \u001b[0;34m\u001b[0m\u001b[0m\n\u001b[0;32m--> 175\u001b[0;31m         \u001b[0;32mreturn\u001b[0m \u001b[0;36m2\u001b[0m\u001b[0;34m*\u001b[0m\u001b[0mself\u001b[0m\u001b[0;34m.\u001b[0m\u001b[0msingle_particle_function\u001b[0m\u001b[0;34m.\u001b[0m\u001b[0mrelative_gradient\u001b[0m \u001b[0;34m+\u001b[0m\u001b[0;31m \u001b[0m\u001b[0;31m\\\u001b[0m\u001b[0;34m\u001b[0m\u001b[0m\n\u001b[0m\u001b[1;32m    176\u001b[0m                 \u001b[0mnp\u001b[0m\u001b[0;34m.\u001b[0m\u001b[0msum\u001b[0m\u001b[0;34m(\u001b[0m\u001b[0;34m(\u001b[0m\u001b[0mu_derivs\u001b[0m\u001b[0;34m*\u001b[0m\u001b[0mrel_diffs\u001b[0m\u001b[0;34m)\u001b[0m\u001b[0;34m,\u001b[0m \u001b[0maxis\u001b[0m\u001b[0;34m=\u001b[0m\u001b[0;36m1\u001b[0m\u001b[0;34m)\u001b[0m\u001b[0;34m\u001b[0m\u001b[0m\n\u001b[1;32m    177\u001b[0m \u001b[0;34m\u001b[0m\u001b[0m\n",
      "\u001b[0;31mKeyboardInterrupt\u001b[0m: "
     ]
    }
   ],
   "source": [
    "for i, sampler in enumerate(speed_samplers.values()):\n",
    "    print(i)\n",
    "    sampler.find_ideal_step_size(0.01, 0.9, num_iterations=1000, verbose=True)"
   ]
  },
  {
   "cell_type": "code",
   "execution_count": null,
   "metadata": {},
   "outputs": [],
   "source": [
    "timings = {}\n",
    "num_it = 100\n",
    "for params, sampler in speed_samplers.items():\n",
    "    print(params)\n",
    "    timings[params] = timeit(lambda : sampler.compute_local_energy(num_it),\n",
    "                             number=100)\n",
    "    "
   ]
  },
  {
   "cell_type": "code",
   "execution_count": null,
   "metadata": {},
   "outputs": [],
   "source": [
    "plt.figure()\n",
    "for d in num_dimensions:\n",
    "    runtime = [timings[(n, d)]/num_it for n in num_particles]\n",
    "    plt.plot(num_particles, runtime)\n",
    "\n",
    "plt.legend([f'{d} dimensions' for d in num_dimensions])\n",
    "plt.title('Runtime per iteration')\n",
    "plt.xlabel('Number of particles')\n",
    "plt.ylabel('Time [s]')\n",
    "plt.show()"
   ]
  },
  {
   "cell_type": "markdown",
   "metadata": {},
   "source": [
    "This seem like it might be squared complexity. Let us therefore perform a square root transform."
   ]
  },
  {
   "cell_type": "code",
   "execution_count": null,
   "metadata": {},
   "outputs": [],
   "source": [
    "plt.figure()\n",
    "for d in num_dimensions:\n",
    "    runtime = np.array([timings[(n, d)]/num_it for n in num_particles])\n",
    "    plt.plot(num_particles, np.sqrt(runtime))\n",
    "    plt.title('Root runtime as a function of number of particles')\n",
    "\n",
    "plt.legend([f'{d} dimensions' for d in num_dimensions])\n",
    "plt.title('Runtime per iteration')\n",
    "plt.xlabel('Number of particles')\n",
    "plt.ylabel('Time [s]')\n",
    "plt.show()"
   ]
  },
  {
   "cell_type": "markdown",
   "metadata": {},
   "source": [
    "From this plot, it seems like there is a quadratic complexity with respect to the number of parameters (in the non-interacting case that is. In the interacting case there is a tripple loop which is skipped if the Boson diameter is 0)."
   ]
  },
  {
   "cell_type": "markdown",
   "metadata": {},
   "source": [
    "# Let us now see if the position vector follows the correct distribution."
   ]
  },
  {
   "cell_type": "code",
   "execution_count": null,
   "metadata": {
    "collapsed": true
   },
   "outputs": [],
   "source": []
  }
 ],
 "metadata": {
  "kernelspec": {
   "display_name": "Python 3",
   "language": "python",
   "name": "python3"
  },
  "language_info": {
   "codemirror_mode": {
    "name": "ipython",
    "version": 3
   },
   "file_extension": ".py",
   "mimetype": "text/x-python",
   "name": "python",
   "nbconvert_exporter": "python",
   "pygments_lexer": "ipython3",
   "version": "3.6.4"
  },
  "varInspector": {
   "cols": {
    "lenName": 16,
    "lenType": 16,
    "lenVar": 40
   },
   "kernels_config": {
    "python": {
     "delete_cmd_postfix": "",
     "delete_cmd_prefix": "del ",
     "library": "var_list.py",
     "varRefreshCmd": "print(var_dic_list())"
    },
    "r": {
     "delete_cmd_postfix": ") ",
     "delete_cmd_prefix": "rm(",
     "library": "var_list.r",
     "varRefreshCmd": "cat(var_dic_list()) "
    }
   },
   "types_to_exclude": [
    "module",
    "function",
    "builtin_function_or_method",
    "instance",
    "_Feature"
   ],
   "window_display": false
  }
 },
 "nbformat": 4,
 "nbformat_minor": 2
}
