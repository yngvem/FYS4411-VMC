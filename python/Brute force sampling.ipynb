{
 "cells": [
  {
   "cell_type": "markdown",
   "metadata": {},
   "source": [
    "# Data analysis for MCMC calculations of energies\n",
    "## Problem 1b) Brute Force sampling\n",
    "### Fabian Faulstich and Yngve Mardal Moe"
   ]
  },
  {
   "cell_type": "code",
   "execution_count": 1,
   "metadata": {},
   "outputs": [
    {
     "name": "stderr",
     "output_type": "stream",
     "text": [
      "/home/yngve/anaconda3/lib/python3.6/site-packages/statsmodels/compat/pandas.py:56: FutureWarning: The pandas.core.datetools module is deprecated and will be removed in a future version. Please use the pandas.tseries module instead.\n",
      "  from pandas.core import datetools\n"
     ]
    }
   ],
   "source": [
    "# Base python imports\n",
    "import numpy as np\n",
    "import pandas as pd\n",
    "import matplotlib.pyplot as plt\n",
    "\n",
    "from time import time\n",
    "from timeit import timeit\n",
    "from joblib import Parallel, delayed\n",
    "from collections import namedtuple\n",
    "\n",
    "import scipy.stats as stats\n",
    "from statsmodels.tsa.stattools import acovf\n",
    "\n",
    "# VMC imports\n",
    "from particles import Particles\n",
    "from wave_function import WaveFunction\n",
    "from sampler import MetropolisSampler, ImportanceSampler\n",
    "from vmc import VMC"
   ]
  },
  {
   "cell_type": "code",
   "execution_count": 2,
   "metadata": {
    "collapsed": true
   },
   "outputs": [],
   "source": [
    "# Supress divide by zero warnings\n",
    "np.seterr('ignore')\n",
    "\n",
    "# IPython magics\n",
    "%matplotlib inline\n",
    "%load_ext autoreload\n",
    "%autoreload 2"
   ]
  },
  {
   "cell_type": "markdown",
   "metadata": {},
   "source": [
    "We start by defining a simple function that simulate the system according to the parameters given in problem 1b)"
   ]
  },
  {
   "cell_type": "code",
   "execution_count": 3,
   "metadata": {
    "collapsed": true
   },
   "outputs": [],
   "source": [
    "def create_sampler(num_particles, num_dimensions, alpha, step_size, seed=None):\n",
    "    parts = Particles(\n",
    "        num_particles=num_particles, \n",
    "        num_dimensions=num_dimensions,\n",
    "        mass=1,\n",
    "        diameter=0\n",
    "    )\n",
    "    wave_function = WaveFunction(\n",
    "        particles=parts,\n",
    "        alpha=alpha,\n",
    "        beta=1,\n",
    "        omega_ho=1,\n",
    "        omega_z=1\n",
    "    )\n",
    "    sampler = MetropolisSampler(\n",
    "        wave_function=wave_function,\n",
    "        step_size=step_size,\n",
    "        seed=seed\n",
    "    )\n",
    "    return sampler\n",
    "\n",
    "\n",
    "def simulate_simple(num_particles, num_dimensions, alpha, step_size,\n",
    "                    num_iterations, seed=None):\n",
    "    sampler = create_sampler(\n",
    "        num_particles=num_particles,\n",
    "        num_dimensions=num_dimensions,\n",
    "        alpha=alpha,\n",
    "        step_size=step_size,\n",
    "        seed=seed\n",
    "    )\n",
    "    return sampler.compute_local_energy(num_iterations)\n",
    "\n",
    "Result = namedtuple('Result', ['params', 'energies', 'positions'])"
   ]
  },
  {
   "cell_type": "code",
   "execution_count": 4,
   "metadata": {
    "collapsed": true
   },
   "outputs": [],
   "source": [
    "alphas = np.array([0.01, 0.1, 0.5, 0.6, 0.7, 1])\n",
    "num_particles = np.array([1, 10, 100, 500])\n",
    "num_dimensions = np.array([1, 2, 3])\n",
    "\n",
    "particles_params = [\n",
    "    {'num_particles': n, 'num_dimensions': d, 'mass': 1, 'diameter': 0}\n",
    "        for n in num_particles for d in num_dimensions\n",
    "]\n",
    "wf_params = {'beta': 1, 'omega_ho': 1, 'omega_z': 1}\n"
   ]
  },
  {
   "cell_type": "code",
   "execution_count": 5,
   "metadata": {
    "collapsed": true
   },
   "outputs": [],
   "source": [
    "vmcs = {}\n",
    "for pp in particles_params:\n",
    "    n = pp['num_particles']\n",
    "    d = pp['num_dimensions']\n",
    "    vmcs[(n, d)] = VMC(MetropolisSampler, wf_params, pp)"
   ]
  },
  {
   "cell_type": "code",
   "execution_count": 16,
   "metadata": {
    "scrolled": true
   },
   "outputs": [
    {
     "name": "stderr",
     "output_type": "stream",
     "text": [
      "/home/yngve/anaconda3/lib/python3.6/site-packages/numpy/core/fromnumeric.py:2889: RuntimeWarning: Mean of empty slice.\n",
      "  out=out, **kwargs)\n"
     ]
    },
    {
     "ename": "MemoryError",
     "evalue": "",
     "output_type": "error",
     "traceback": [
      "\u001b[0;31m---------------------------------------------------------------------------\u001b[0m",
      "\u001b[0;31mMemoryError\u001b[0m                               Traceback (most recent call last)",
      "\u001b[0;32m<ipython-input-16-90d2337d33a0>\u001b[0m in \u001b[0;36m<module>\u001b[0;34m()\u001b[0m\n\u001b[1;32m     14\u001b[0m \u001b[0;32mfor\u001b[0m \u001b[0malpha\u001b[0m \u001b[0;32min\u001b[0m \u001b[0malphas\u001b[0m\u001b[0;34m:\u001b[0m\u001b[0;34m\u001b[0m\u001b[0m\n\u001b[1;32m     15\u001b[0m     results = Parallel(n_jobs=1)(\n\u001b[0;32m---> 16\u001b[0;31m         \u001b[0mdelayed\u001b[0m\u001b[0;34m(\u001b[0m\u001b[0mperform_inference\u001b[0m\u001b[0;34m)\u001b[0m\u001b[0;34m(\u001b[0m\u001b[0mparam\u001b[0m\u001b[0;34m,\u001b[0m \u001b[0mvmc\u001b[0m\u001b[0;34m,\u001b[0m \u001b[0malpha\u001b[0m\u001b[0;34m)\u001b[0m \u001b[0;32mfor\u001b[0m \u001b[0mvmc\u001b[0m\u001b[0;34m,\u001b[0m \u001b[0mparam\u001b[0m \u001b[0;32min\u001b[0m \u001b[0mvmcs\u001b[0m\u001b[0;34m.\u001b[0m\u001b[0mitems\u001b[0m\u001b[0;34m(\u001b[0m\u001b[0;34m)\u001b[0m\u001b[0;34m\u001b[0m\u001b[0m\n\u001b[0m\u001b[1;32m     17\u001b[0m     )\n\u001b[1;32m     18\u001b[0m     \u001b[0;32mfor\u001b[0m \u001b[0mresult\u001b[0m \u001b[0;32min\u001b[0m \u001b[0mresults\u001b[0m\u001b[0;34m:\u001b[0m\u001b[0;34m\u001b[0m\u001b[0m\n",
      "\u001b[0;32m/home/yngve/anaconda3/lib/python3.6/site-packages/joblib/parallel.py\u001b[0m in \u001b[0;36m__call__\u001b[0;34m(self, iterable)\u001b[0m\n\u001b[1;32m    777\u001b[0m             \u001b[0;31m# was dispatched. In particular this covers the edge\u001b[0m\u001b[0;34m\u001b[0m\u001b[0;34m\u001b[0m\u001b[0m\n\u001b[1;32m    778\u001b[0m             \u001b[0;31m# case of Parallel used with an exhausted iterator.\u001b[0m\u001b[0;34m\u001b[0m\u001b[0;34m\u001b[0m\u001b[0m\n\u001b[0;32m--> 779\u001b[0;31m             \u001b[0;32mwhile\u001b[0m \u001b[0mself\u001b[0m\u001b[0;34m.\u001b[0m\u001b[0mdispatch_one_batch\u001b[0m\u001b[0;34m(\u001b[0m\u001b[0miterator\u001b[0m\u001b[0;34m)\u001b[0m\u001b[0;34m:\u001b[0m\u001b[0;34m\u001b[0m\u001b[0m\n\u001b[0m\u001b[1;32m    780\u001b[0m                 \u001b[0mself\u001b[0m\u001b[0;34m.\u001b[0m\u001b[0m_iterating\u001b[0m \u001b[0;34m=\u001b[0m \u001b[0;32mTrue\u001b[0m\u001b[0;34m\u001b[0m\u001b[0m\n\u001b[1;32m    781\u001b[0m             \u001b[0;32melse\u001b[0m\u001b[0;34m:\u001b[0m\u001b[0;34m\u001b[0m\u001b[0m\n",
      "\u001b[0;32m/home/yngve/anaconda3/lib/python3.6/site-packages/joblib/parallel.py\u001b[0m in \u001b[0;36mdispatch_one_batch\u001b[0;34m(self, iterator)\u001b[0m\n\u001b[1;32m    623\u001b[0m                 \u001b[0;32mreturn\u001b[0m \u001b[0;32mFalse\u001b[0m\u001b[0;34m\u001b[0m\u001b[0m\n\u001b[1;32m    624\u001b[0m             \u001b[0;32melse\u001b[0m\u001b[0;34m:\u001b[0m\u001b[0;34m\u001b[0m\u001b[0m\n\u001b[0;32m--> 625\u001b[0;31m                 \u001b[0mself\u001b[0m\u001b[0;34m.\u001b[0m\u001b[0m_dispatch\u001b[0m\u001b[0;34m(\u001b[0m\u001b[0mtasks\u001b[0m\u001b[0;34m)\u001b[0m\u001b[0;34m\u001b[0m\u001b[0m\n\u001b[0m\u001b[1;32m    626\u001b[0m                 \u001b[0;32mreturn\u001b[0m \u001b[0;32mTrue\u001b[0m\u001b[0;34m\u001b[0m\u001b[0m\n\u001b[1;32m    627\u001b[0m \u001b[0;34m\u001b[0m\u001b[0m\n",
      "\u001b[0;32m/home/yngve/anaconda3/lib/python3.6/site-packages/joblib/parallel.py\u001b[0m in \u001b[0;36m_dispatch\u001b[0;34m(self, batch)\u001b[0m\n\u001b[1;32m    586\u001b[0m         \u001b[0mdispatch_timestamp\u001b[0m \u001b[0;34m=\u001b[0m \u001b[0mtime\u001b[0m\u001b[0;34m.\u001b[0m\u001b[0mtime\u001b[0m\u001b[0;34m(\u001b[0m\u001b[0;34m)\u001b[0m\u001b[0;34m\u001b[0m\u001b[0m\n\u001b[1;32m    587\u001b[0m         \u001b[0mcb\u001b[0m \u001b[0;34m=\u001b[0m \u001b[0mBatchCompletionCallBack\u001b[0m\u001b[0;34m(\u001b[0m\u001b[0mdispatch_timestamp\u001b[0m\u001b[0;34m,\u001b[0m \u001b[0mlen\u001b[0m\u001b[0;34m(\u001b[0m\u001b[0mbatch\u001b[0m\u001b[0;34m)\u001b[0m\u001b[0;34m,\u001b[0m \u001b[0mself\u001b[0m\u001b[0;34m)\u001b[0m\u001b[0;34m\u001b[0m\u001b[0m\n\u001b[0;32m--> 588\u001b[0;31m         \u001b[0mjob\u001b[0m \u001b[0;34m=\u001b[0m \u001b[0mself\u001b[0m\u001b[0;34m.\u001b[0m\u001b[0m_backend\u001b[0m\u001b[0;34m.\u001b[0m\u001b[0mapply_async\u001b[0m\u001b[0;34m(\u001b[0m\u001b[0mbatch\u001b[0m\u001b[0;34m,\u001b[0m \u001b[0mcallback\u001b[0m\u001b[0;34m=\u001b[0m\u001b[0mcb\u001b[0m\u001b[0;34m)\u001b[0m\u001b[0;34m\u001b[0m\u001b[0m\n\u001b[0m\u001b[1;32m    589\u001b[0m         \u001b[0mself\u001b[0m\u001b[0;34m.\u001b[0m\u001b[0m_jobs\u001b[0m\u001b[0;34m.\u001b[0m\u001b[0mappend\u001b[0m\u001b[0;34m(\u001b[0m\u001b[0mjob\u001b[0m\u001b[0;34m)\u001b[0m\u001b[0;34m\u001b[0m\u001b[0m\n\u001b[1;32m    590\u001b[0m \u001b[0;34m\u001b[0m\u001b[0m\n",
      "\u001b[0;32m/home/yngve/anaconda3/lib/python3.6/site-packages/joblib/_parallel_backends.py\u001b[0m in \u001b[0;36mapply_async\u001b[0;34m(self, func, callback)\u001b[0m\n\u001b[1;32m    109\u001b[0m     \u001b[0;32mdef\u001b[0m \u001b[0mapply_async\u001b[0m\u001b[0;34m(\u001b[0m\u001b[0mself\u001b[0m\u001b[0;34m,\u001b[0m \u001b[0mfunc\u001b[0m\u001b[0;34m,\u001b[0m \u001b[0mcallback\u001b[0m\u001b[0;34m=\u001b[0m\u001b[0;32mNone\u001b[0m\u001b[0;34m)\u001b[0m\u001b[0;34m:\u001b[0m\u001b[0;34m\u001b[0m\u001b[0m\n\u001b[1;32m    110\u001b[0m         \u001b[0;34m\"\"\"Schedule a func to be run\"\"\"\u001b[0m\u001b[0;34m\u001b[0m\u001b[0m\n\u001b[0;32m--> 111\u001b[0;31m         \u001b[0mresult\u001b[0m \u001b[0;34m=\u001b[0m \u001b[0mImmediateResult\u001b[0m\u001b[0;34m(\u001b[0m\u001b[0mfunc\u001b[0m\u001b[0;34m)\u001b[0m\u001b[0;34m\u001b[0m\u001b[0m\n\u001b[0m\u001b[1;32m    112\u001b[0m         \u001b[0;32mif\u001b[0m \u001b[0mcallback\u001b[0m\u001b[0;34m:\u001b[0m\u001b[0;34m\u001b[0m\u001b[0m\n\u001b[1;32m    113\u001b[0m             \u001b[0mcallback\u001b[0m\u001b[0;34m(\u001b[0m\u001b[0mresult\u001b[0m\u001b[0;34m)\u001b[0m\u001b[0;34m\u001b[0m\u001b[0m\n",
      "\u001b[0;32m/home/yngve/anaconda3/lib/python3.6/site-packages/joblib/_parallel_backends.py\u001b[0m in \u001b[0;36m__init__\u001b[0;34m(self, batch)\u001b[0m\n\u001b[1;32m    330\u001b[0m         \u001b[0;31m# Don't delay the application, to avoid keeping the input\u001b[0m\u001b[0;34m\u001b[0m\u001b[0;34m\u001b[0m\u001b[0m\n\u001b[1;32m    331\u001b[0m         \u001b[0;31m# arguments in memory\u001b[0m\u001b[0;34m\u001b[0m\u001b[0;34m\u001b[0m\u001b[0m\n\u001b[0;32m--> 332\u001b[0;31m         \u001b[0mself\u001b[0m\u001b[0;34m.\u001b[0m\u001b[0mresults\u001b[0m \u001b[0;34m=\u001b[0m \u001b[0mbatch\u001b[0m\u001b[0;34m(\u001b[0m\u001b[0;34m)\u001b[0m\u001b[0;34m\u001b[0m\u001b[0m\n\u001b[0m\u001b[1;32m    333\u001b[0m \u001b[0;34m\u001b[0m\u001b[0m\n\u001b[1;32m    334\u001b[0m     \u001b[0;32mdef\u001b[0m \u001b[0mget\u001b[0m\u001b[0;34m(\u001b[0m\u001b[0mself\u001b[0m\u001b[0;34m)\u001b[0m\u001b[0;34m:\u001b[0m\u001b[0;34m\u001b[0m\u001b[0m\n",
      "\u001b[0;32m/home/yngve/anaconda3/lib/python3.6/site-packages/joblib/parallel.py\u001b[0m in \u001b[0;36m__call__\u001b[0;34m(self)\u001b[0m\n\u001b[1;32m    129\u001b[0m \u001b[0;34m\u001b[0m\u001b[0m\n\u001b[1;32m    130\u001b[0m     \u001b[0;32mdef\u001b[0m \u001b[0m__call__\u001b[0m\u001b[0;34m(\u001b[0m\u001b[0mself\u001b[0m\u001b[0;34m)\u001b[0m\u001b[0;34m:\u001b[0m\u001b[0;34m\u001b[0m\u001b[0m\n\u001b[0;32m--> 131\u001b[0;31m         \u001b[0;32mreturn\u001b[0m \u001b[0;34m[\u001b[0m\u001b[0mfunc\u001b[0m\u001b[0;34m(\u001b[0m\u001b[0;34m*\u001b[0m\u001b[0margs\u001b[0m\u001b[0;34m,\u001b[0m \u001b[0;34m**\u001b[0m\u001b[0mkwargs\u001b[0m\u001b[0;34m)\u001b[0m \u001b[0;32mfor\u001b[0m \u001b[0mfunc\u001b[0m\u001b[0;34m,\u001b[0m \u001b[0margs\u001b[0m\u001b[0;34m,\u001b[0m \u001b[0mkwargs\u001b[0m \u001b[0;32min\u001b[0m \u001b[0mself\u001b[0m\u001b[0;34m.\u001b[0m\u001b[0mitems\u001b[0m\u001b[0;34m]\u001b[0m\u001b[0;34m\u001b[0m\u001b[0m\n\u001b[0m\u001b[1;32m    132\u001b[0m \u001b[0;34m\u001b[0m\u001b[0m\n\u001b[1;32m    133\u001b[0m     \u001b[0;32mdef\u001b[0m \u001b[0m__len__\u001b[0m\u001b[0;34m(\u001b[0m\u001b[0mself\u001b[0m\u001b[0;34m)\u001b[0m\u001b[0;34m:\u001b[0m\u001b[0;34m\u001b[0m\u001b[0m\n",
      "\u001b[0;32m/home/yngve/anaconda3/lib/python3.6/site-packages/joblib/parallel.py\u001b[0m in \u001b[0;36m<listcomp>\u001b[0;34m(.0)\u001b[0m\n\u001b[1;32m    129\u001b[0m \u001b[0;34m\u001b[0m\u001b[0m\n\u001b[1;32m    130\u001b[0m     \u001b[0;32mdef\u001b[0m \u001b[0m__call__\u001b[0m\u001b[0;34m(\u001b[0m\u001b[0mself\u001b[0m\u001b[0;34m)\u001b[0m\u001b[0;34m:\u001b[0m\u001b[0;34m\u001b[0m\u001b[0m\n\u001b[0;32m--> 131\u001b[0;31m         \u001b[0;32mreturn\u001b[0m \u001b[0;34m[\u001b[0m\u001b[0mfunc\u001b[0m\u001b[0;34m(\u001b[0m\u001b[0;34m*\u001b[0m\u001b[0margs\u001b[0m\u001b[0;34m,\u001b[0m \u001b[0;34m**\u001b[0m\u001b[0mkwargs\u001b[0m\u001b[0;34m)\u001b[0m \u001b[0;32mfor\u001b[0m \u001b[0mfunc\u001b[0m\u001b[0;34m,\u001b[0m \u001b[0margs\u001b[0m\u001b[0;34m,\u001b[0m \u001b[0mkwargs\u001b[0m \u001b[0;32min\u001b[0m \u001b[0mself\u001b[0m\u001b[0;34m.\u001b[0m\u001b[0mitems\u001b[0m\u001b[0;34m]\u001b[0m\u001b[0;34m\u001b[0m\u001b[0m\n\u001b[0m\u001b[1;32m    132\u001b[0m \u001b[0;34m\u001b[0m\u001b[0m\n\u001b[1;32m    133\u001b[0m     \u001b[0;32mdef\u001b[0m \u001b[0m__len__\u001b[0m\u001b[0;34m(\u001b[0m\u001b[0mself\u001b[0m\u001b[0;34m)\u001b[0m\u001b[0;34m:\u001b[0m\u001b[0;34m\u001b[0m\u001b[0m\n",
      "\u001b[0;32m<ipython-input-16-90d2337d33a0>\u001b[0m in \u001b[0;36mperform_inference\u001b[0;34m(vmc, params, alpha)\u001b[0m\n\u001b[1;32m      8\u001b[0m     \u001b[0mnp\u001b[0m\u001b[0;34m.\u001b[0m\u001b[0mseterr\u001b[0m\u001b[0;34m(\u001b[0m\u001b[0;34m'ignore'\u001b[0m\u001b[0;34m)\u001b[0m\u001b[0;34m\u001b[0m\u001b[0m\n\u001b[1;32m      9\u001b[0m     energies, positions = vmc.perform_mc_iterations(alpha, num_iterations=num_its,\n\u001b[0;32m---> 10\u001b[0;31m                                                     ideal_ar=0.5, return_positions=True)\n\u001b[0m\u001b[1;32m     11\u001b[0m     \u001b[0mresult\u001b[0m \u001b[0;34m=\u001b[0m \u001b[0mResult\u001b[0m\u001b[0;34m(\u001b[0m\u001b[0;34m(\u001b[0m\u001b[0malpha\u001b[0m\u001b[0;34m,\u001b[0m \u001b[0;34m*\u001b[0m\u001b[0mparams\u001b[0m\u001b[0;34m)\u001b[0m\u001b[0;34m,\u001b[0m \u001b[0menergies\u001b[0m\u001b[0;34m,\u001b[0m \u001b[0mpositions\u001b[0m\u001b[0;34m)\u001b[0m\u001b[0;34m\u001b[0m\u001b[0m\n\u001b[1;32m     12\u001b[0m     \u001b[0;32mreturn\u001b[0m \u001b[0mresult\u001b[0m\u001b[0;34m\u001b[0m\u001b[0m\n",
      "\u001b[0;32m/hdd/Dropbox/Skole/UiO/FYS4411/FYS4411-VMC/python/vmc.py\u001b[0m in \u001b[0;36mperform_mc_iterations\u001b[0;34m(self, alpha, num_iterations, ideal_ar, ar_error, max_ar_iterations, ar_int_iters, warm_up, return_positions, return_wf, seed)\u001b[0m\n\u001b[1;32m    104\u001b[0m             \u001b[0mnum_iterations\u001b[0m\u001b[0;34m,\u001b[0m\u001b[0;34m\u001b[0m\u001b[0m\n\u001b[1;32m    105\u001b[0m             \u001b[0mreturn_positions\u001b[0m\u001b[0;34m=\u001b[0m\u001b[0mreturn_positions\u001b[0m\u001b[0;34m,\u001b[0m\u001b[0;34m\u001b[0m\u001b[0m\n\u001b[0;32m--> 106\u001b[0;31m             \u001b[0mreturn_wf\u001b[0m\u001b[0;34m=\u001b[0m\u001b[0mreturn_wf\u001b[0m\u001b[0;34m\u001b[0m\u001b[0m\n\u001b[0m\u001b[1;32m    107\u001b[0m         )\n\u001b[1;32m    108\u001b[0m \u001b[0;34m\u001b[0m\u001b[0m\n",
      "\u001b[0;32m/hdd/Dropbox/Skole/UiO/FYS4411/FYS4411-VMC/python/sampler.py\u001b[0m in \u001b[0;36mperform_mc_iterations\u001b[0;34m(self, num_steps, save_frequency, return_positions, return_wf)\u001b[0m\n\u001b[1;32m     89\u001b[0m                     \u001b[0mwf_evals\u001b[0m\u001b[0;34m.\u001b[0m\u001b[0mappend\u001b[0m\u001b[0;34m(\u001b[0m\u001b[0mself\u001b[0m\u001b[0;34m.\u001b[0m\u001b[0mwave_function\u001b[0m\u001b[0;34m(\u001b[0m\u001b[0;34m)\u001b[0m\u001b[0;34m)\u001b[0m\u001b[0;34m\u001b[0m\u001b[0m\n\u001b[1;32m     90\u001b[0m \u001b[0;34m\u001b[0m\u001b[0m\n\u001b[0;32m---> 91\u001b[0;31m         \u001b[0mpositions\u001b[0m \u001b[0;34m=\u001b[0m \u001b[0mnp\u001b[0m\u001b[0;34m.\u001b[0m\u001b[0marray\u001b[0m\u001b[0;34m(\u001b[0m\u001b[0mpositions\u001b[0m\u001b[0;34m)\u001b[0m\u001b[0;34m\u001b[0m\u001b[0m\n\u001b[0m\u001b[1;32m     92\u001b[0m         \u001b[0mwf_evals\u001b[0m \u001b[0;34m=\u001b[0m \u001b[0mnp\u001b[0m\u001b[0;34m.\u001b[0m\u001b[0marray\u001b[0m\u001b[0;34m(\u001b[0m\u001b[0mwf_evals\u001b[0m\u001b[0;34m)\u001b[0m\u001b[0;34m\u001b[0m\u001b[0m\n\u001b[1;32m     93\u001b[0m         \u001b[0mself\u001b[0m\u001b[0;34m.\u001b[0m\u001b[0menergies\u001b[0m \u001b[0;34m=\u001b[0m \u001b[0mnp\u001b[0m\u001b[0;34m.\u001b[0m\u001b[0mconcatenate\u001b[0m\u001b[0;34m(\u001b[0m\u001b[0;34m(\u001b[0m\u001b[0mself\u001b[0m\u001b[0;34m.\u001b[0m\u001b[0menergies\u001b[0m\u001b[0;34m,\u001b[0m \u001b[0menergies\u001b[0m\u001b[0;34m)\u001b[0m\u001b[0;34m)\u001b[0m\u001b[0;34m\u001b[0m\u001b[0m\n",
      "\u001b[0;31mMemoryError\u001b[0m: "
     ]
    }
   ],
   "source": [
    "energies = {}\n",
    "variances = {}\n",
    "MCMC_results = {}\n",
    "\n",
    "num_its=int(np.exp(int(np.log2(10000))+1))\n",
    "def perform_inference(vmc, params, alpha):\n",
    "    import numpy as np\n",
    "    np.seterr('ignore')\n",
    "    energies, positions = vmc.perform_mc_iterations(alpha, num_iterations=num_its,\n",
    "                                                    ideal_ar=0.5, return_positions=True)\n",
    "    result = Result((alpha, *params), energies, positions)\n",
    "    return result\n",
    "\n",
    "for alpha in alphas:\n",
    "    results = Parallel(n_jobs=1)(\n",
    "        delayed(perform_inference)(param, vmc, alpha) for vmc, param in vmcs.items()\n",
    "    )\n",
    "    for result in results:\n",
    "        param = result.params\n",
    "        energies[param] = result.energies.mean()\n",
    "        variances[param] = result.energies.var()/num_its        \n",
    "        MCMC_results[param] = result\n",
    "    print(f'Finished all configurations for alpha={alpha}')\n",
    "    \n"
   ]
  },
  {
   "cell_type": "code",
   "execution_count": 8,
   "metadata": {
    "scrolled": false
   },
   "outputs": [
    {
     "name": "stdout",
     "output_type": "stream",
     "text": [
      "| Alpha |  n  | d | Computed energy |   Variances  | Number of Iterations |\n",
      "|-------|-----|---|-----------------|--------------|----------------------|\n",
      "| 0.010 |   1 | 1 |         12.7369 |          2.4 | 17 |\n",
      "| 0.010 |   1 | 2 |         13.2690 |          1.6 | 17 |\n",
      "| 0.010 |   1 | 3 |         44.1344 |         22.7 | 17 |\n",
      "| 0.010 |  10 | 1 |         91.4033 |         36.9 | 17 |\n",
      "| 0.010 |  10 | 2 |        256.8024 |         18.4 | 17 |\n",
      "| 0.010 |  10 | 3 |        531.0363 |         22.1 | 17 |\n",
      "| 0.010 | 100 | 1 |       1192.7842 |          7.8 | 17 |\n",
      "| 0.010 | 100 | 2 |       2416.1190 |         13.2 | 17 |\n",
      "| 0.010 | 100 | 3 |       3719.2942 |        137.4 | 17 |\n",
      "| 0.010 | 500 | 1 |       3607.6305 |         25.2 | 17 |\n",
      "| 0.010 | 500 | 2 |       5139.8601 |         52.2 | 17 |\n",
      "| 0.010 | 500 | 3 |       6525.8225 |         10.0 | 17 |\n",
      "| 0.100 |   1 | 1 |          2.7446 |          0.3 | 17 |\n",
      "| 0.100 |   1 | 2 |          2.9591 |          0.2 | 17 |\n",
      "| 0.100 |   1 | 3 |          4.2905 |          0.2 | 17 |\n",
      "| 0.100 |  10 | 1 |         12.4721 |          0.2 | 17 |\n",
      "| 0.100 |  10 | 2 |         21.1957 |          0.4 | 17 |\n",
      "| 0.100 |  10 | 3 |         38.8197 |          0.2 | 17 |\n",
      "| 0.100 | 100 | 1 |        147.1127 |          0.4 | 17 |\n",
      "| 0.100 | 100 | 2 |        230.4900 |          0.5 | 17 |\n",
      "| 0.100 | 100 | 3 |        377.9683 |          0.2 | 17 |\n",
      "| 0.100 | 500 | 1 |        499.2954 |          0.3 | 17 |\n",
      "| 0.100 | 500 | 2 |        937.1640 |          0.3 | 17 |\n",
      "| 0.100 | 500 | 3 |       1235.4324 |          0.8 | 17 |\n",
      "| 0.500 |   1 | 1 |          0.5000 |          0.0 | 17 |\n",
      "| 0.500 |   1 | 2 |          1.0000 |          0.0 | 17 |\n",
      "| 0.500 |   1 | 3 |          1.5000 |          0.0 | 17 |\n",
      "| 0.500 |  10 | 1 |          5.0000 |          0.0 | 17 |\n",
      "| 0.500 |  10 | 2 |         10.0000 |          0.0 | 17 |\n",
      "| 0.500 |  10 | 3 |         15.0000 |          0.0 | 17 |\n",
      "| 0.500 | 100 | 1 |         50.0000 |          0.0 | 17 |\n",
      "| 0.500 | 100 | 2 |        100.0000 |          0.0 | 17 |\n",
      "| 0.500 | 100 | 3 |        150.0000 |          0.0 | 17 |\n",
      "| 0.500 | 500 | 1 |        250.0000 |          0.0 | 17 |\n",
      "| 0.500 | 500 | 2 |        500.0000 |          0.0 | 17 |\n",
      "| 0.500 | 500 | 3 |        750.0000 |          0.0 | 17 |\n",
      "| 0.600 |   1 | 1 |          0.5587 |          0.0 | 17 |\n",
      "| 0.600 |   1 | 2 |          1.0953 |          0.0 | 17 |\n",
      "| 0.600 |   1 | 3 |          1.5510 |          0.0 | 17 |\n",
      "| 0.600 |  10 | 1 |          5.4074 |          0.0 | 17 |\n",
      "| 0.600 |  10 | 2 |          9.3620 |          0.0 | 17 |\n",
      "| 0.600 |  10 | 3 |         14.5817 |          0.0 | 17 |\n",
      "| 0.600 | 100 | 1 |         54.5359 |          0.0 | 17 |\n",
      "| 0.600 | 100 | 2 |        101.4007 |          0.0 | 17 |\n",
      "| 0.600 | 100 | 3 |        142.1813 |          0.0 | 17 |\n",
      "| 0.600 | 500 | 1 |        223.8976 |          0.0 | 17 |\n",
      "| 0.600 | 500 | 2 |        423.0250 |          0.0 | 17 |\n",
      "| 0.600 | 500 | 3 |        607.9479 |          0.0 | 17 |\n",
      "| 0.700 |   1 | 1 |          0.4590 |          0.0 | 17 |\n",
      "| 0.700 |   1 | 2 |          1.1365 |          0.0 | 17 |\n",
      "| 0.700 |   1 | 3 |          1.6624 |          0.0 | 17 |\n",
      "| 0.700 |  10 | 1 |          5.2136 |          0.0 | 17 |\n",
      "| 0.700 |  10 | 2 |         10.8396 |          0.0 | 17 |\n",
      "| 0.700 |  10 | 3 |         16.3129 |          0.0 | 17 |\n",
      "| 0.700 | 100 | 1 |         49.9339 |          0.0 | 17 |\n",
      "| 0.700 | 100 | 2 |        104.2807 |          0.0 | 17 |\n",
      "| 0.700 | 100 | 3 |        142.6135 |          0.0 | 17 |\n",
      "| 0.700 | 500 | 1 |        173.5229 |          0.0 | 17 |\n",
      "| 0.700 | 500 | 2 |        351.5764 |          0.0 | 17 |\n",
      "| 0.700 | 500 | 3 |        486.6581 |          0.0 | 17 |\n",
      "| 1.000 |   1 | 1 |          0.6578 |          0.0 | 17 |\n",
      "| 1.000 |   1 | 2 |          1.2179 |          0.0 | 17 |\n",
      "| 1.000 |   1 | 3 |          1.9152 |          0.0 | 17 |\n",
      "| 1.000 |  10 | 1 |          6.4619 |          0.0 | 17 |\n",
      "| 1.000 |  10 | 2 |         16.1579 |          0.0 | 17 |\n",
      "| 1.000 |  10 | 3 |         16.8131 |          0.0 | 17 |\n",
      "| 1.000 | 100 | 1 |         63.4344 |          0.0 | 17 |\n",
      "| 1.000 | 100 | 2 |        105.9830 |          0.0 | 17 |\n",
      "| 1.000 | 100 | 3 |         74.4563 |          0.1 | 17 |\n",
      "| 1.000 | 500 | 1 |        107.5886 |          0.0 | 17 |\n",
      "| 1.000 | 500 | 2 |        -55.9417 |          0.0 | 17 |\n",
      "| 1.000 | 500 | 3 |       -420.6537 |          0.5 | 17 |\n"
     ]
    }
   ],
   "source": [
    "def expected_energy(parameters):\n",
    "    return np.prod(parameters)/2 + parameters[1]*parameters[2]/(parameters[0]*8)\n",
    "\n",
    "print('| Alpha |  n  | d | Computed energy |   Variances  | Number of Iterations |')\n",
    "print('|-------|-----|---|-----------------|--------------|----------------------|')\n",
    "for param, energy in energies.items():\n",
    "    print(f'|{param[0]:6.3f} |{param[1]:4d} | {param[2]} |{energy:16.4f} | {variances[param]:12.1f} | {num_its} |')\n"
   ]
  },
  {
   "cell_type": "markdown",
   "metadata": {},
   "source": [
    "This table comes from copying the above output\n",
    "\n",
    "| Alpha |  n  | d | Computed energy |   Variances  | Number of Iterations |\n",
    "|-------|-----|---|-----------------|--------------|----------------------|\n",
    "| 0.010 |   1 | 1 |         12.7369 |          2.4 | 17 |\n",
    "| 0.010 |   1 | 2 |         13.2690 |          1.6 | 17 |\n",
    "| 0.010 |   1 | 3 |         44.1344 |         22.7 | 17 |\n",
    "| 0.010 |  10 | 1 |         91.4033 |         36.9 | 17 |\n",
    "| 0.010 |  10 | 2 |        256.8024 |         18.4 | 17 |\n",
    "| 0.010 |  10 | 3 |        531.0363 |         22.1 | 17 |\n",
    "| 0.010 | 100 | 1 |       1192.7842 |          7.8 | 17 |\n",
    "| 0.010 | 100 | 2 |       2416.1190 |         13.2 | 17 |\n",
    "| 0.010 | 100 | 3 |       3719.2942 |        137.4 | 17 |\n",
    "| 0.010 | 500 | 1 |       3607.6305 |         25.2 | 17 |\n",
    "| 0.010 | 500 | 2 |       5139.8601 |         52.2 | 17 |\n",
    "| 0.010 | 500 | 3 |       6525.8225 |         10.0 | 17 |\n",
    "| 0.100 |   1 | 1 |          2.7446 |          0.3 | 17 |\n",
    "| 0.100 |   1 | 2 |          2.9591 |          0.2 | 17 |\n",
    "| 0.100 |   1 | 3 |          4.2905 |          0.2 | 17 |\n",
    "| 0.100 |  10 | 1 |         12.4721 |          0.2 | 17 |\n",
    "| 0.100 |  10 | 2 |         21.1957 |          0.4 | 17 |\n",
    "| 0.100 |  10 | 3 |         38.8197 |          0.2 | 17 |\n",
    "| 0.100 | 100 | 1 |        147.1127 |          0.4 | 17 |\n",
    "| 0.100 | 100 | 2 |        230.4900 |          0.5 | 17 |\n",
    "| 0.100 | 100 | 3 |        377.9683 |          0.2 | 17 |\n",
    "| 0.100 | 500 | 1 |        499.2954 |          0.3 | 17 |\n",
    "| 0.100 | 500 | 2 |        937.1640 |          0.3 | 17 |\n",
    "| 0.100 | 500 | 3 |       1235.4324 |          0.8 | 17 |\n",
    "| 0.500 |   1 | 1 |          0.5000 |          0.0 | 17 |\n",
    "| 0.500 |   1 | 2 |          1.0000 |          0.0 | 17 |\n",
    "| 0.500 |   1 | 3 |          1.5000 |          0.0 | 17 |\n",
    "| 0.500 |  10 | 1 |          5.0000 |          0.0 | 17 |\n",
    "| 0.500 |  10 | 2 |         10.0000 |          0.0 | 17 |\n",
    "| 0.500 |  10 | 3 |         15.0000 |          0.0 | 17 |\n",
    "| 0.500 | 100 | 1 |         50.0000 |          0.0 | 17 |\n",
    "| 0.500 | 100 | 2 |        100.0000 |          0.0 | 17 |\n",
    "| 0.500 | 100 | 3 |        150.0000 |          0.0 | 17 |\n",
    "| 0.500 | 500 | 1 |        250.0000 |          0.0 | 17 |\n",
    "| 0.500 | 500 | 2 |        500.0000 |          0.0 | 17 |\n",
    "| 0.500 | 500 | 3 |        750.0000 |          0.0 | 17 |\n",
    "| 0.600 |   1 | 1 |          0.5587 |          0.0 | 17 |\n",
    "| 0.600 |   1 | 2 |          1.0953 |          0.0 | 17 |\n",
    "| 0.600 |   1 | 3 |          1.5510 |          0.0 | 17 |\n",
    "| 0.600 |  10 | 1 |          5.4074 |          0.0 | 17 |\n",
    "| 0.600 |  10 | 2 |          9.3620 |          0.0 | 17 |\n",
    "| 0.600 |  10 | 3 |         14.5817 |          0.0 | 17 |\n",
    "| 0.600 | 100 | 1 |         54.5359 |          0.0 | 17 |\n",
    "| 0.600 | 100 | 2 |        101.4007 |          0.0 | 17 |\n",
    "| 0.600 | 100 | 3 |        142.1813 |          0.0 | 17 |\n",
    "| 0.600 | 500 | 1 |        223.8976 |          0.0 | 17 |\n",
    "| 0.600 | 500 | 2 |        423.0250 |          0.0 | 17 |\n",
    "| 0.600 | 500 | 3 |        607.9479 |          0.0 | 17 |\n",
    "| 0.700 |   1 | 1 |          0.4590 |          0.0 | 17 |\n",
    "| 0.700 |   1 | 2 |          1.1365 |          0.0 | 17 |\n",
    "| 0.700 |   1 | 3 |          1.6624 |          0.0 | 17 |\n",
    "| 0.700 |  10 | 1 |          5.2136 |          0.0 | 17 |\n",
    "| 0.700 |  10 | 2 |         10.8396 |          0.0 | 17 |\n",
    "| 0.700 |  10 | 3 |         16.3129 |          0.0 | 17 |\n",
    "| 0.700 | 100 | 1 |         49.9339 |          0.0 | 17 |\n",
    "| 0.700 | 100 | 2 |        104.2807 |          0.0 | 17 |\n",
    "| 0.700 | 100 | 3 |        142.6135 |          0.0 | 17 |\n",
    "| 0.700 | 500 | 1 |        173.5229 |          0.0 | 17 |\n",
    "| 0.700 | 500 | 2 |        351.5764 |          0.0 | 17 |\n",
    "| 0.700 | 500 | 3 |        486.6581 |          0.0 | 17 |\n",
    "| 1.000 |   1 | 1 |          0.6578 |          0.0 | 17 |\n",
    "| 1.000 |   1 | 2 |          1.2179 |          0.0 | 17 |\n",
    "| 1.000 |   1 | 3 |          1.9152 |          0.0 | 17 |\n",
    "| 1.000 |  10 | 1 |          6.4619 |          0.0 | 17 |\n",
    "| 1.000 |  10 | 2 |         16.1579 |          0.0 | 17 |\n",
    "| 1.000 |  10 | 3 |         16.8131 |          0.0 | 17 |\n",
    "| 1.000 | 100 | 1 |         63.4344 |          0.0 | 17 |\n",
    "| 1.000 | 100 | 2 |        105.9830 |          0.0 | 17 |\n",
    "| 1.000 | 100 | 3 |         74.4563 |          0.1 | 17 |\n",
    "| 1.000 | 500 | 1 |        107.5886 |          0.0 | 17 |\n",
    "| 1.000 | 500 | 2 |        -55.9417 |          0.0 | 17 |\n",
    "| 1.000 | 500 | 3 |       -420.6537 |          0.5 | 17 |\n",
    "\n"
   ]
  },
  {
   "cell_type": "markdown",
   "metadata": {},
   "source": [
    "Thus, we see that our MCMC sampler does indeed seem to give the correct result for the non-interacting case.\n",
    "\n",
    "----------------------\n",
    "## Timings\n",
    "Let us now see what the complexity of the MCMC sampler is. Here, $m$ denote the number of iterations, $n$ the number of particles and $d$ the number of dimensions.\n",
    "\n",
    "We choose alpha equal to 0.5 for these tests.\n",
    "\n",
    "The computational complexity scales linearly with the number of iterations, $m$, as each iteration does the exact same thing. We therefore only need to test the computational complexity wrt $n$ and $d$."
   ]
  },
  {
   "cell_type": "code",
   "execution_count": 9,
   "metadata": {
    "collapsed": true
   },
   "outputs": [],
   "source": [
    "alpha = 0.5\n",
    "num_particles = np.logspace(0, 2, 10, dtype=int)\n",
    "num_dimensions = np.array([1, 2, 3])\n",
    "speed_samplers = {}\n",
    "\n",
    "for n in num_particles:\n",
    "    for d in num_dimensions:\n",
    "        speed_samplers[(n, d)] = create_sampler(n, d, alpha, 0.1)"
   ]
  },
  {
   "cell_type": "code",
   "execution_count": 11,
   "metadata": {
    "scrolled": true
   },
   "outputs": [
    {
     "name": "stderr",
     "output_type": "stream",
     "text": [
      "/home/yngve/anaconda3/lib/python3.6/site-packages/numpy/core/fromnumeric.py:2889: RuntimeWarning: Mean of empty slice.\n",
      "  out=out, **kwargs)\n"
     ]
    }
   ],
   "source": [
    "for sampler in speed_samplers.values():\n",
    "    sampler.find_ideal_step_size(0.01, num_iterations=1000)"
   ]
  },
  {
   "cell_type": "code",
   "execution_count": 12,
   "metadata": {},
   "outputs": [
    {
     "name": "stdout",
     "output_type": "stream",
     "text": [
      "(1, 1)\n",
      "(1, 2)\n",
      "(1, 3)\n",
      "(2, 1)\n",
      "(2, 2)\n",
      "(2, 3)\n",
      "(4, 1)\n",
      "(4, 2)\n",
      "(4, 3)\n",
      "(7, 1)\n",
      "(7, 2)\n",
      "(7, 3)\n",
      "(12, 1)\n",
      "(12, 2)\n",
      "(12, 3)\n",
      "(21, 1)\n",
      "(21, 2)\n",
      "(21, 3)\n"
     ]
    },
    {
     "ename": "KeyboardInterrupt",
     "evalue": "",
     "output_type": "error",
     "traceback": [
      "\u001b[0;31m---------------------------------------------------------------------------\u001b[0m",
      "\u001b[0;31mKeyboardInterrupt\u001b[0m                         Traceback (most recent call last)",
      "\u001b[0;32m<ipython-input-12-2dcabcebf9c2>\u001b[0m in \u001b[0;36m<module>\u001b[0;34m()\u001b[0m\n\u001b[1;32m      4\u001b[0m     \u001b[0mprint\u001b[0m\u001b[0;34m(\u001b[0m\u001b[0mparams\u001b[0m\u001b[0;34m)\u001b[0m\u001b[0;34m\u001b[0m\u001b[0m\n\u001b[1;32m      5\u001b[0m     timings[params] = timeit(lambda : sampler.compute_local_energy(num_it),\n\u001b[0;32m----> 6\u001b[0;31m                              number=100)\n\u001b[0m\u001b[1;32m      7\u001b[0m \u001b[0;34m\u001b[0m\u001b[0m\n",
      "\u001b[0;32m/home/yngve/anaconda3/lib/python3.6/timeit.py\u001b[0m in \u001b[0;36mtimeit\u001b[0;34m(stmt, setup, timer, number, globals)\u001b[0m\n\u001b[1;32m    231\u001b[0m            number=default_number, globals=None):\n\u001b[1;32m    232\u001b[0m     \u001b[0;34m\"\"\"Convenience function to create Timer object and call timeit method.\"\"\"\u001b[0m\u001b[0;34m\u001b[0m\u001b[0m\n\u001b[0;32m--> 233\u001b[0;31m     \u001b[0;32mreturn\u001b[0m \u001b[0mTimer\u001b[0m\u001b[0;34m(\u001b[0m\u001b[0mstmt\u001b[0m\u001b[0;34m,\u001b[0m \u001b[0msetup\u001b[0m\u001b[0;34m,\u001b[0m \u001b[0mtimer\u001b[0m\u001b[0;34m,\u001b[0m \u001b[0mglobals\u001b[0m\u001b[0;34m)\u001b[0m\u001b[0;34m.\u001b[0m\u001b[0mtimeit\u001b[0m\u001b[0;34m(\u001b[0m\u001b[0mnumber\u001b[0m\u001b[0;34m)\u001b[0m\u001b[0;34m\u001b[0m\u001b[0m\n\u001b[0m\u001b[1;32m    234\u001b[0m \u001b[0;34m\u001b[0m\u001b[0m\n\u001b[1;32m    235\u001b[0m def repeat(stmt=\"pass\", setup=\"pass\", timer=default_timer,\n",
      "\u001b[0;32m/home/yngve/anaconda3/lib/python3.6/timeit.py\u001b[0m in \u001b[0;36mtimeit\u001b[0;34m(self, number)\u001b[0m\n\u001b[1;32m    176\u001b[0m         \u001b[0mgc\u001b[0m\u001b[0;34m.\u001b[0m\u001b[0mdisable\u001b[0m\u001b[0;34m(\u001b[0m\u001b[0;34m)\u001b[0m\u001b[0;34m\u001b[0m\u001b[0m\n\u001b[1;32m    177\u001b[0m         \u001b[0;32mtry\u001b[0m\u001b[0;34m:\u001b[0m\u001b[0;34m\u001b[0m\u001b[0m\n\u001b[0;32m--> 178\u001b[0;31m             \u001b[0mtiming\u001b[0m \u001b[0;34m=\u001b[0m \u001b[0mself\u001b[0m\u001b[0;34m.\u001b[0m\u001b[0minner\u001b[0m\u001b[0;34m(\u001b[0m\u001b[0mit\u001b[0m\u001b[0;34m,\u001b[0m \u001b[0mself\u001b[0m\u001b[0;34m.\u001b[0m\u001b[0mtimer\u001b[0m\u001b[0;34m)\u001b[0m\u001b[0;34m\u001b[0m\u001b[0m\n\u001b[0m\u001b[1;32m    179\u001b[0m         \u001b[0;32mfinally\u001b[0m\u001b[0;34m:\u001b[0m\u001b[0;34m\u001b[0m\u001b[0m\n\u001b[1;32m    180\u001b[0m             \u001b[0;32mif\u001b[0m \u001b[0mgcold\u001b[0m\u001b[0;34m:\u001b[0m\u001b[0;34m\u001b[0m\u001b[0m\n",
      "\u001b[0;32m/home/yngve/anaconda3/lib/python3.6/timeit.py\u001b[0m in \u001b[0;36minner\u001b[0;34m(_it, _timer, _stmt)\u001b[0m\n",
      "\u001b[0;32m<ipython-input-12-2dcabcebf9c2>\u001b[0m in \u001b[0;36m<lambda>\u001b[0;34m()\u001b[0m\n\u001b[1;32m      3\u001b[0m \u001b[0;32mfor\u001b[0m \u001b[0mparams\u001b[0m\u001b[0;34m,\u001b[0m \u001b[0msampler\u001b[0m \u001b[0;32min\u001b[0m \u001b[0mspeed_samplers\u001b[0m\u001b[0;34m.\u001b[0m\u001b[0mitems\u001b[0m\u001b[0;34m(\u001b[0m\u001b[0;34m)\u001b[0m\u001b[0;34m:\u001b[0m\u001b[0;34m\u001b[0m\u001b[0m\n\u001b[1;32m      4\u001b[0m     \u001b[0mprint\u001b[0m\u001b[0;34m(\u001b[0m\u001b[0mparams\u001b[0m\u001b[0;34m)\u001b[0m\u001b[0;34m\u001b[0m\u001b[0m\n\u001b[0;32m----> 5\u001b[0;31m     timings[params] = timeit(lambda : sampler.compute_local_energy(num_it),\n\u001b[0m\u001b[1;32m      6\u001b[0m                              number=100)\n\u001b[1;32m      7\u001b[0m \u001b[0;34m\u001b[0m\u001b[0m\n",
      "\u001b[0;32m/hdd/Dropbox/Skole/UiO/FYS4411/FYS4411-VMC/python/sampler.py\u001b[0m in \u001b[0;36mcompute_local_energy\u001b[0;34m(self, num_steps)\u001b[0m\n\u001b[1;32m     69\u001b[0m         \"\"\"Perform MCMC iterations and return the estimated energy and variance.\n\u001b[1;32m     70\u001b[0m         \"\"\"\n\u001b[0;32m---> 71\u001b[0;31m         \u001b[0menergies\u001b[0m \u001b[0;34m=\u001b[0m \u001b[0mself\u001b[0m\u001b[0;34m.\u001b[0m\u001b[0mperform_mc_iterations\u001b[0m\u001b[0;34m(\u001b[0m\u001b[0mnum_steps\u001b[0m\u001b[0;34m)\u001b[0m\u001b[0;34m\u001b[0m\u001b[0m\n\u001b[0m\u001b[1;32m     72\u001b[0m         \u001b[0;32mreturn\u001b[0m \u001b[0menergies\u001b[0m\u001b[0;34m.\u001b[0m\u001b[0mmean\u001b[0m\u001b[0;34m(\u001b[0m\u001b[0;34m)\u001b[0m\u001b[0;34m,\u001b[0m \u001b[0menergies\u001b[0m\u001b[0;34m.\u001b[0m\u001b[0mstd\u001b[0m\u001b[0;34m(\u001b[0m\u001b[0;34m)\u001b[0m\u001b[0;34m**\u001b[0m\u001b[0;36m2\u001b[0m\u001b[0;34m\u001b[0m\u001b[0m\n\u001b[1;32m     73\u001b[0m \u001b[0;34m\u001b[0m\u001b[0m\n",
      "\u001b[0;32m/hdd/Dropbox/Skole/UiO/FYS4411/FYS4411-VMC/python/sampler.py\u001b[0m in \u001b[0;36mperform_mc_iterations\u001b[0;34m(self, num_steps, save_frequency, return_positions, return_wf)\u001b[0m\n\u001b[1;32m     80\u001b[0m         \u001b[0mwf_evals\u001b[0m \u001b[0;34m=\u001b[0m \u001b[0;34m[\u001b[0m\u001b[0;34m]\u001b[0m\u001b[0;34m\u001b[0m\u001b[0m\n\u001b[1;32m     81\u001b[0m         \u001b[0;32mfor\u001b[0m \u001b[0mi\u001b[0m \u001b[0;32min\u001b[0m \u001b[0mrange\u001b[0m\u001b[0;34m(\u001b[0m\u001b[0mnum_steps\u001b[0m\u001b[0;34m)\u001b[0m\u001b[0;34m:\u001b[0m\u001b[0;34m\u001b[0m\u001b[0m\n\u001b[0;32m---> 82\u001b[0;31m             \u001b[0mself\u001b[0m\u001b[0;34m.\u001b[0m\u001b[0msingle_step\u001b[0m\u001b[0;34m(\u001b[0m\u001b[0;34m)\u001b[0m\u001b[0;34m\u001b[0m\u001b[0m\n\u001b[0m\u001b[1;32m     83\u001b[0m             \u001b[0;32mif\u001b[0m \u001b[0mi\u001b[0m \u001b[0;34m%\u001b[0m \u001b[0msave_frequency\u001b[0m \u001b[0;34m==\u001b[0m \u001b[0;36m0\u001b[0m\u001b[0;34m:\u001b[0m\u001b[0;34m\u001b[0m\u001b[0m\n\u001b[1;32m     84\u001b[0m                 \u001b[0menergies\u001b[0m\u001b[0;34m[\u001b[0m\u001b[0mi\u001b[0m\u001b[0;34m//\u001b[0m\u001b[0msave_frequency\u001b[0m\u001b[0;34m]\u001b[0m \u001b[0;34m=\u001b[0m \u001b[0mself\u001b[0m\u001b[0;34m.\u001b[0m\u001b[0mcurrent_energy\u001b[0m\u001b[0;34m\u001b[0m\u001b[0m\n",
      "\u001b[0;32m/hdd/Dropbox/Skole/UiO/FYS4411/FYS4411-VMC/python/sampler.py\u001b[0m in \u001b[0;36msingle_step\u001b[0;34m(self)\u001b[0m\n\u001b[1;32m     40\u001b[0m         \u001b[0mself\u001b[0m\u001b[0;34m.\u001b[0m\u001b[0mP\u001b[0m \u001b[0;34m=\u001b[0m \u001b[0mself\u001b[0m\u001b[0;34m.\u001b[0m\u001b[0mwave_function\u001b[0m\u001b[0;34m(\u001b[0m\u001b[0;34m)\u001b[0m\u001b[0;34m**\u001b[0m\u001b[0;36m2\u001b[0m\u001b[0;34m\u001b[0m\u001b[0m\n\u001b[1;32m     41\u001b[0m         \u001b[0;32mif\u001b[0m \u001b[0mself\u001b[0m\u001b[0;34m.\u001b[0m\u001b[0m_keep_position\u001b[0m\u001b[0;34m:\u001b[0m\u001b[0;34m\u001b[0m\u001b[0m\n\u001b[0;32m---> 42\u001b[0;31m             \u001b[0mself\u001b[0m\u001b[0;34m.\u001b[0m\u001b[0mcurrent_energy\u001b[0m \u001b[0;34m=\u001b[0m \u001b[0mself\u001b[0m\u001b[0;34m.\u001b[0m\u001b[0mwave_function\u001b[0m\u001b[0;34m.\u001b[0m\u001b[0mlocal_energy\u001b[0m\u001b[0;34m\u001b[0m\u001b[0m\n\u001b[0m\u001b[1;32m     43\u001b[0m         \u001b[0;32melse\u001b[0m\u001b[0;34m:\u001b[0m\u001b[0;34m\u001b[0m\u001b[0m\n\u001b[1;32m     44\u001b[0m             \u001b[0mself\u001b[0m\u001b[0;34m.\u001b[0m\u001b[0m_reject_perturbation\u001b[0m\u001b[0;34m(\u001b[0m\u001b[0;34m)\u001b[0m\u001b[0;34m\u001b[0m\u001b[0m\n",
      "\u001b[0;32m/hdd/Dropbox/Skole/UiO/FYS4411/FYS4411-VMC/python/wave_function.py\u001b[0m in \u001b[0;36mlocal_energy\u001b[0;34m(self)\u001b[0m\n\u001b[1;32m    205\u001b[0m     \u001b[0;34m@\u001b[0m\u001b[0mproperty\u001b[0m\u001b[0;34m\u001b[0m\u001b[0m\n\u001b[1;32m    206\u001b[0m     \u001b[0;32mdef\u001b[0m \u001b[0mlocal_energy\u001b[0m\u001b[0;34m(\u001b[0m\u001b[0mself\u001b[0m\u001b[0;34m)\u001b[0m\u001b[0;34m:\u001b[0m\u001b[0;34m\u001b[0m\u001b[0m\n\u001b[0;32m--> 207\u001b[0;31m         \u001b[0;32mreturn\u001b[0m \u001b[0mself\u001b[0m\u001b[0;34m.\u001b[0m\u001b[0mkinetic_energy\u001b[0m \u001b[0;34m+\u001b[0m \u001b[0mself\u001b[0m\u001b[0;34m.\u001b[0m\u001b[0mint_potential\u001b[0m \u001b[0;34m+\u001b[0m \u001b[0mself\u001b[0m\u001b[0;34m.\u001b[0m\u001b[0mext_potential\u001b[0m\u001b[0;34m\u001b[0m\u001b[0m\n\u001b[0m\u001b[1;32m    208\u001b[0m \u001b[0;34m\u001b[0m\u001b[0m\n\u001b[1;32m    209\u001b[0m     \u001b[0;34m@\u001b[0m\u001b[0mproperty\u001b[0m\u001b[0;34m\u001b[0m\u001b[0m\n",
      "\u001b[0;32m/hdd/Dropbox/Skole/UiO/FYS4411/FYS4411-VMC/python/wave_function.py\u001b[0m in \u001b[0;36mint_potential\u001b[0;34m(self)\u001b[0m\n\u001b[1;32m    127\u001b[0m     \u001b[0;34m@\u001b[0m\u001b[0mproperty\u001b[0m\u001b[0;34m\u001b[0m\u001b[0m\n\u001b[1;32m    128\u001b[0m     \u001b[0;32mdef\u001b[0m \u001b[0mint_potential\u001b[0m\u001b[0;34m(\u001b[0m\u001b[0mself\u001b[0m\u001b[0;34m)\u001b[0m\u001b[0;34m:\u001b[0m\u001b[0;34m\u001b[0m\u001b[0m\n\u001b[0;32m--> 129\u001b[0;31m         \u001b[0moverlapping\u001b[0m \u001b[0;34m=\u001b[0m \u001b[0mself\u001b[0m\u001b[0;34m.\u001b[0m\u001b[0mparticles\u001b[0m\u001b[0;34m.\u001b[0m\u001b[0moverlapping\u001b[0m\u001b[0;34m.\u001b[0m\u001b[0mcopy\u001b[0m\u001b[0;34m(\u001b[0m\u001b[0;34m)\u001b[0m\u001b[0;34m\u001b[0m\u001b[0m\n\u001b[0m\u001b[1;32m    130\u001b[0m         \u001b[0moverlapping\u001b[0m\u001b[0;34m[\u001b[0m\u001b[0mrange\u001b[0m\u001b[0;34m(\u001b[0m\u001b[0mself\u001b[0m\u001b[0;34m.\u001b[0m\u001b[0mnum_particles\u001b[0m\u001b[0;34m)\u001b[0m\u001b[0;34m,\u001b[0m \u001b[0mrange\u001b[0m\u001b[0;34m(\u001b[0m\u001b[0mself\u001b[0m\u001b[0;34m.\u001b[0m\u001b[0mnum_particles\u001b[0m\u001b[0;34m)\u001b[0m\u001b[0;34m]\u001b[0m \u001b[0;34m=\u001b[0m \u001b[0;32mFalse\u001b[0m\u001b[0;34m\u001b[0m\u001b[0m\n\u001b[1;32m    131\u001b[0m         \u001b[0;32mreturn\u001b[0m \u001b[0mnp\u001b[0m\u001b[0;34m.\u001b[0m\u001b[0minf\u001b[0m \u001b[0;32mif\u001b[0m \u001b[0mnp\u001b[0m\u001b[0;34m.\u001b[0m\u001b[0many\u001b[0m\u001b[0;34m(\u001b[0m\u001b[0moverlapping\u001b[0m\u001b[0;34m)\u001b[0m \u001b[0;32melse\u001b[0m \u001b[0;36m0\u001b[0m\u001b[0;34m\u001b[0m\u001b[0m\n",
      "\u001b[0;32m/hdd/Dropbox/Skole/UiO/FYS4411/FYS4411-VMC/python/particles.py\u001b[0m in \u001b[0;36moverlapping\u001b[0;34m(self)\u001b[0m\n\u001b[1;32m    148\u001b[0m         \"\"\"\n\u001b[1;32m    149\u001b[0m         \u001b[0;32mif\u001b[0m \u001b[0mself\u001b[0m\u001b[0;34m.\u001b[0m\u001b[0m_positions_changed\u001b[0m\u001b[0;34m:\u001b[0m\u001b[0;34m\u001b[0m\u001b[0m\n\u001b[0;32m--> 150\u001b[0;31m             \u001b[0mself\u001b[0m\u001b[0;34m.\u001b[0m\u001b[0m_update_distances\u001b[0m\u001b[0;34m(\u001b[0m\u001b[0;34m)\u001b[0m\u001b[0;34m\u001b[0m\u001b[0m\n\u001b[0m\u001b[1;32m    151\u001b[0m         \u001b[0;32mreturn\u001b[0m \u001b[0mself\u001b[0m\u001b[0;34m.\u001b[0m\u001b[0m_overlapping\u001b[0m\u001b[0;34m\u001b[0m\u001b[0m\n\u001b[1;32m    152\u001b[0m \u001b[0;34m\u001b[0m\u001b[0m\n",
      "\u001b[0;32m/hdd/Dropbox/Skole/UiO/FYS4411/FYS4411-VMC/python/particles.py\u001b[0m in \u001b[0;36m_update_distances\u001b[0;34m(self)\u001b[0m\n\u001b[1;32m     97\u001b[0m \u001b[0;34m\u001b[0m\u001b[0m\n\u001b[1;32m     98\u001b[0m         \u001b[0mself\u001b[0m\u001b[0;34m.\u001b[0m\u001b[0m_distances\u001b[0m \u001b[0;34m=\u001b[0m \u001b[0msquareform\u001b[0m\u001b[0;34m(\u001b[0m\u001b[0mpdist\u001b[0m\u001b[0;34m(\u001b[0m\u001b[0mself\u001b[0m\u001b[0;34m.\u001b[0m\u001b[0m_positions\u001b[0m\u001b[0;34m)\u001b[0m\u001b[0;34m)\u001b[0m\u001b[0;34m\u001b[0m\u001b[0m\n\u001b[0;32m---> 99\u001b[0;31m         \u001b[0mself\u001b[0m\u001b[0;34m.\u001b[0m\u001b[0m_rec_distances\u001b[0m \u001b[0;34m=\u001b[0m \u001b[0;36m1\u001b[0m\u001b[0;34m/\u001b[0m\u001b[0mself\u001b[0m\u001b[0;34m.\u001b[0m\u001b[0m_distances\u001b[0m\u001b[0;34m\u001b[0m\u001b[0m\n\u001b[0m\u001b[1;32m    100\u001b[0m         \u001b[0mself\u001b[0m\u001b[0;34m.\u001b[0m\u001b[0m_rec_distances\u001b[0m\u001b[0;34m[\u001b[0m\u001b[0mrange\u001b[0m\u001b[0;34m(\u001b[0m\u001b[0mself\u001b[0m\u001b[0;34m.\u001b[0m\u001b[0mnum_particles\u001b[0m\u001b[0;34m)\u001b[0m\u001b[0;34m,\u001b[0m \u001b[0mrange\u001b[0m\u001b[0;34m(\u001b[0m\u001b[0mself\u001b[0m\u001b[0;34m.\u001b[0m\u001b[0mnum_particles\u001b[0m\u001b[0;34m)\u001b[0m\u001b[0;34m]\u001b[0m \u001b[0;34m=\u001b[0m \u001b[0;36m0\u001b[0m\u001b[0;34m\u001b[0m\u001b[0m\n\u001b[1;32m    101\u001b[0m         \u001b[0mself\u001b[0m\u001b[0;34m.\u001b[0m\u001b[0m_overlapping\u001b[0m \u001b[0;34m=\u001b[0m \u001b[0mself\u001b[0m\u001b[0;34m.\u001b[0m\u001b[0m_distances\u001b[0m \u001b[0;34m<=\u001b[0m \u001b[0mself\u001b[0m\u001b[0;34m.\u001b[0m\u001b[0mdiameter\u001b[0m\u001b[0;34m\u001b[0m\u001b[0m\n",
      "\u001b[0;31mKeyboardInterrupt\u001b[0m: "
     ]
    }
   ],
   "source": [
    "timings = {}\n",
    "num_it = 100\n",
    "for params, sampler in speed_samplers.items():\n",
    "    print(params)\n",
    "    timings[params] = timeit(lambda : sampler.compute_local_energy(num_it),\n",
    "                             number=100)\n",
    "    "
   ]
  },
  {
   "cell_type": "code",
   "execution_count": null,
   "metadata": {},
   "outputs": [],
   "source": [
    "plt.figure()\n",
    "for d in num_dimensions:\n",
    "    runtime = [timings[(n, d)]/num_it for n in num_particles]\n",
    "    plt.plot(num_particles, runtime)\n",
    "\n",
    "plt.legend([f'{d} dimensions' for d in num_dimensions])\n",
    "plt.title('Runtime per iteration')\n",
    "plt.xlabel('Number of particles')\n",
    "plt.ylabel('Time [s]')\n",
    "plt.show()"
   ]
  },
  {
   "cell_type": "markdown",
   "metadata": {},
   "source": [
    "This seem like it might be squared complexity. Let us therefore perform a square root transform."
   ]
  },
  {
   "cell_type": "code",
   "execution_count": null,
   "metadata": {},
   "outputs": [],
   "source": [
    "plt.figure()\n",
    "for d in num_dimensions:\n",
    "    runtime = np.array([timings[(n, d)]/num_it for n in num_particles])\n",
    "    plt.plot(num_particles, np.sqrt(runtime))\n",
    "    plt.title('Root runtime as a function of number of particles')\n",
    "\n",
    "plt.legend([f'{d} dimensions' for d in num_dimensions])\n",
    "plt.title('Runtime per iteration')\n",
    "plt.xlabel('Number of particles')\n",
    "plt.ylabel('Time [s]')\n",
    "plt.show()"
   ]
  },
  {
   "cell_type": "markdown",
   "metadata": {},
   "source": [
    "From this plot, it seems like there is a quadratic complexity with respect to the number of parameters (in the non-interacting case that is. In the interacting case there is a tripple loop which is skipped if the Boson diameter is 0)."
   ]
  },
  {
   "cell_type": "markdown",
   "metadata": {
    "collapsed": true
   },
   "source": [
    "## Advanced statistical analysis"
   ]
  },
  {
   "cell_type": "markdown",
   "metadata": {},
   "source": [
    "Now, we want to perform some advanced statistical analysis on our results. Mainly, to compute the variances using the blocking method, which gives a more realistic estimate."
   ]
  },
  {
   "cell_type": "code",
   "execution_count": 13,
   "metadata": {
    "collapsed": true
   },
   "outputs": [],
   "source": [
    "def blocking(energies):\n",
    "    energies = np.array(energies)\n",
    "    d = int(np.log2(len(energies)))\n",
    "    energies = energies[:2**d]\n",
    "    mean = energies.mean()\n",
    "    \n",
    "    autocovariances = np.zeros(d)\n",
    "    variances = np.zeros(d)\n",
    "    block_sizes = 2**(np.arange(d)) \n",
    "    \n",
    "    for i in range(d):\n",
    "        n = len(energies)\n",
    "        autocovariances[i] = np.sum(\n",
    "            (energies[:-1] - mean)*(energies[1:] - mean)\n",
    "        )/(n-1)\n",
    "        variances[i] = np.var(energies, ddof=1)\n",
    "        \n",
    "        energies = (energies[::2] + energies[1::2])/2\n",
    "    \n",
    "    autocorrelations = autocovariances/variances\n",
    "    chi2 = np.cumsum((2*block_sizes[::-1]*autocorrelations**2)[::-1])[::-1]\n",
    "        # equivalent to sum(...) - cumsum(...)\n",
    "    p_value = stats.chi2.cdf(chi2, df=np.arange(d)+1)\n",
    "    variances /= 2**(d-np.arange(d))\n",
    "    \n",
    "    index = pd.Series(block_sizes, name='Block size')\n",
    "    result = {\n",
    "        'Autocovariance': autocovariances,\n",
    "        'Variance': variances,\n",
    "        'Autocorrelations': autocorrelations,\n",
    "        '$\\chi$': chi2,\n",
    "        'p_value': p_value\n",
    "    }\n",
    "    return pd.DataFrame(result, index=index)\n",
    "\n",
    "def realistic_variance(energies, significance_level=0.01):\n",
    "    blocking_df = blocking(energies)\n",
    "    try:\n",
    "        return blocking_df.Variance[blocking_df.p_value < 1-significance_level].values[0]\n",
    "    except IndexError:\n",
    "        return np.nan"
   ]
  },
  {
   "cell_type": "code",
   "execution_count": 14,
   "metadata": {},
   "outputs": [
    {
     "data": {
      "text/plain": [
       "array([-425.50707043, -425.50707043, -422.39032859, -422.39032859,\n",
       "       -422.39032859, -422.78778373, -421.94823482, -421.56945181,\n",
       "       -421.56945181, -420.02293407, -420.02293407, -420.02293407,\n",
       "       -419.14543493, -416.41126514, -416.41126514, -416.5076688 ,\n",
       "       -416.5076688 ])"
      ]
     },
     "execution_count": 14,
     "metadata": {},
     "output_type": "execute_result"
    }
   ],
   "source": [
    "result.energies"
   ]
  },
  {
   "cell_type": "code",
   "execution_count": 15,
   "metadata": {
    "scrolled": false
   },
   "outputs": [
    {
     "name": "stdout",
     "output_type": "stream",
     "text": [
      "| Alpha |  n  | d | Computed energy | Naive variance | Actual variance |\n",
      "|-------|-----|---|-----------------|----------------|--------------------|\n",
      "| 0.010 |   1 | 1 |         12.7369 |          2.6 |          2.9 |\n",
      "| 0.010 |   1 | 2 |         13.2690 |          1.7 |          1.2 |\n",
      "| 0.010 |   1 | 3 |         44.1344 |         24.1 |         43.1 |\n",
      "| 0.010 |  10 | 1 |         91.4033 |         39.2 |         83.5 |\n",
      "| 0.010 |  10 | 2 |        256.8024 |         19.6 |         36.4 |\n",
      "| 0.010 |  10 | 3 |        531.0363 |         23.5 |         26.5 |\n",
      "| 0.010 | 100 | 1 |       1192.7842 |          8.3 |         16.4 |\n",
      "| 0.010 | 100 | 2 |       2416.1190 |         14.0 |         24.6 |\n",
      "| 0.010 | 100 | 3 |       3719.2942 |        145.9 |        282.2 |\n",
      "| 0.010 | 500 | 1 |       3607.6305 |         26.8 |         61.6 |\n",
      "| 0.010 | 500 | 2 |       5139.8601 |         55.5 |        120.3 |\n",
      "| 0.010 | 500 | 3 |       6525.8225 |         10.6 |         18.6 |\n",
      "| 0.100 |   1 | 1 |          2.7446 |          0.3 |          0.4 |\n",
      "| 0.100 |   1 | 2 |          2.9591 |          0.2 |          0.3 |\n",
      "| 0.100 |   1 | 3 |          4.2905 |          0.2 |          0.2 |\n",
      "| 0.100 |  10 | 1 |         12.4721 |          0.2 |          0.2 |\n",
      "| 0.100 |  10 | 2 |         21.1957 |          0.4 |          0.6 |\n",
      "| 0.100 |  10 | 3 |         38.8197 |          0.2 |          0.3 |\n",
      "| 0.100 | 100 | 1 |        147.1127 |          0.4 |          0.8 |\n",
      "| 0.100 | 100 | 2 |        230.4900 |          0.5 |          0.6 |\n",
      "| 0.100 | 100 | 3 |        377.9683 |          0.2 |          0.3 |\n",
      "| 0.100 | 500 | 1 |        499.2954 |          0.4 |          0.7 |\n",
      "| 0.100 | 500 | 2 |        937.1640 |          0.3 |          0.5 |\n",
      "| 0.100 | 500 | 3 |       1235.4324 |          0.8 |          1.7 |\n",
      "| 0.500 |   1 | 1 |          0.5000 |          0.0 |          nan |\n",
      "| 0.500 |   1 | 2 |          1.0000 |          0.0 |          nan |\n",
      "| 0.500 |   1 | 3 |          1.5000 |          0.0 |          nan |\n",
      "| 0.500 |  10 | 1 |          5.0000 |          0.0 |          nan |\n",
      "| 0.500 |  10 | 2 |         10.0000 |          0.0 |          nan |\n",
      "| 0.500 |  10 | 3 |         15.0000 |          0.0 |          nan |\n",
      "| 0.500 | 100 | 1 |         50.0000 |          0.0 |          nan |\n",
      "| 0.500 | 100 | 2 |        100.0000 |          0.0 |          nan |\n",
      "| 0.500 | 100 | 3 |        150.0000 |          0.0 |          nan |\n",
      "| 0.500 | 500 | 1 |        250.0000 |          0.0 |          nan |\n",
      "| 0.500 | 500 | 2 |        500.0000 |          0.0 |          0.0 |\n",
      "| 0.500 | 500 | 3 |        750.0000 |          0.0 |          nan |\n",
      "| 0.600 |   1 | 1 |          0.5587 |          0.0 |          0.0 |\n",
      "| 0.600 |   1 | 2 |          1.0953 |          0.0 |          0.0 |\n",
      "| 0.600 |   1 | 3 |          1.5510 |          0.0 |          0.0 |\n",
      "| 0.600 |  10 | 1 |          5.4074 |          0.0 |          0.0 |\n",
      "| 0.600 |  10 | 2 |          9.3620 |          0.0 |          0.0 |\n",
      "| 0.600 |  10 | 3 |         14.5817 |          0.0 |          0.0 |\n",
      "| 0.600 | 100 | 1 |         54.5359 |          0.0 |          0.0 |\n",
      "| 0.600 | 100 | 2 |        101.4007 |          0.0 |          0.0 |\n",
      "| 0.600 | 100 | 3 |        142.1813 |          0.0 |          0.0 |\n",
      "| 0.600 | 500 | 1 |        223.8976 |          0.0 |          0.0 |\n",
      "| 0.600 | 500 | 2 |        423.0250 |          0.0 |          0.0 |\n",
      "| 0.600 | 500 | 3 |        607.9479 |          0.0 |          0.0 |\n",
      "| 0.700 |   1 | 1 |          0.4590 |          0.0 |          0.0 |\n",
      "| 0.700 |   1 | 2 |          1.1365 |          0.0 |          0.0 |\n",
      "| 0.700 |   1 | 3 |          1.6624 |          0.0 |          0.0 |\n",
      "| 0.700 |  10 | 1 |          5.2136 |          0.0 |          0.0 |\n",
      "| 0.700 |  10 | 2 |         10.8396 |          0.0 |          0.0 |\n",
      "| 0.700 |  10 | 3 |         16.3129 |          0.0 |          0.0 |\n",
      "| 0.700 | 100 | 1 |         49.9339 |          0.0 |          0.0 |\n",
      "| 0.700 | 100 | 2 |        104.2807 |          0.0 |          0.0 |\n",
      "| 0.700 | 100 | 3 |        142.6135 |          0.0 |          0.0 |\n",
      "| 0.700 | 500 | 1 |        173.5229 |          0.0 |          0.0 |\n",
      "| 0.700 | 500 | 2 |        351.5764 |          0.0 |          0.0 |\n",
      "| 0.700 | 500 | 3 |        486.6581 |          0.0 |          0.1 |\n",
      "| 1.000 |   1 | 1 |          0.6578 |          0.0 |          0.0 |\n",
      "| 1.000 |   1 | 2 |          1.2179 |          0.0 |          0.0 |\n",
      "| 1.000 |   1 | 3 |          1.9152 |          0.0 |          0.1 |\n",
      "| 1.000 |  10 | 1 |          6.4619 |          0.0 |          0.0 |\n",
      "| 1.000 |  10 | 2 |         16.1579 |          0.0 |          0.0 |\n",
      "| 1.000 |  10 | 3 |         16.8131 |          0.0 |          0.1 |\n",
      "| 1.000 | 100 | 1 |         63.4344 |          0.0 |          0.1 |\n",
      "| 1.000 | 100 | 2 |        105.9830 |          0.0 |          0.0 |\n",
      "| 1.000 | 100 | 3 |         74.4563 |          0.1 |          0.1 |\n",
      "| 1.000 | 500 | 1 |        107.5886 |          0.0 |          0.0 |\n",
      "| 1.000 | 500 | 2 |        -55.9417 |          0.0 |          0.0 |\n",
      "| 1.000 | 500 | 3 |       -420.6537 |          0.5 |          1.0 |\n"
     ]
    }
   ],
   "source": [
    "print('| Alpha |  n  | d | Computed energy | Naive variance | Actual variance |')\n",
    "print('|-------|-----|---|-----------------|----------------|--------------------|')\n",
    "for param, result in MCMC_results.items():\n",
    "    energy = result.energies.mean()\n",
    "    n_var = result.energies.var(ddof=1)/num_its\n",
    "    a_var = realistic_variance(result.energies)\n",
    "    print(f'|{param[0]:6.3f} |{param[1]:4d} | {param[2]} |{energy:16.4f} | {n_var:12.1f} | {a_var:12.1f} |')\n",
    "    "
   ]
  },
  {
   "cell_type": "markdown",
   "metadata": {},
   "source": [
    "| Alpha |  n  | d | Computed energy | Naive variance | Actual variance |\n",
    "|-------|-----|---|-----------------|----------------|--------------------|\n",
    "| 0.010 |   1 | 1 |          2.4113 |          7.7 |          0.5 |\n",
    "| 0.010 |   1 | 2 |         17.6183 |        156.2 |          9.1 |\n",
    "| 0.010 |   1 | 3 |         30.9143 |        116.1 |          7.7 |\n",
    "| 0.010 |  10 | 1 |        115.1956 |        725.4 |         81.4 |\n",
    "| 0.010 |  10 | 2 |        204.6076 |        819.7 |        103.4 |\n",
    "| 0.010 |  10 | 3 |        408.3209 |        757.6 |         95.9 |\n",
    "| 0.010 | 100 | 1 |       1600.5880 |        310.0 |         16.2 |\n",
    "| 0.010 | 100 | 2 |       2419.6584 |       1549.8 |        209.2 |\n",
    "| 0.010 | 100 | 3 |       3318.7094 |       1028.7 |        135.3 |\n",
    "| 0.100 |   1 | 1 |          0.5427 |          0.3 |          0.0 |\n",
    "| 0.100 |   1 | 2 |          2.2088 |          1.7 |          0.1 |\n",
    "| 0.100 |   1 | 3 |          3.4919 |         12.8 |          0.7 |\n",
    "| 0.100 |  10 | 1 |         17.4955 |          0.9 |          0.0 |\n",
    "| 0.100 |  10 | 2 |         31.3913 |          6.8 |          0.8 |\n",
    "| 0.100 |  10 | 3 |         29.2829 |          8.9 |          1.1 |\n",
    "| 0.100 | 100 | 1 |        136.0351 |          6.0 |          0.8 |\n",
    "| 0.100 | 100 | 2 |        231.6789 |          4.8 |          0.3 |\n",
    "| 0.100 | 100 | 3 |        339.5157 |         15.7 |          0.8 |\n",
    "| 0.500 |   1 | 1 |          0.5000 |          0.0 |          nan |\n",
    "| 0.500 |   1 | 2 |          1.0000 |          0.0 |          nan |\n",
    "| 0.500 |   1 | 3 |          1.5000 |          0.0 |          nan |\n",
    "| 0.500 |  10 | 1 |          5.0000 |          0.0 |          nan |\n",
    "| 0.500 |  10 | 2 |         10.0000 |          0.0 |          nan |\n",
    "| 0.500 |  10 | 3 |         15.0000 |          0.0 |          nan |\n",
    "| 0.500 | 100 | 1 |         50.0000 |          0.0 |          nan |\n",
    "| 0.500 | 100 | 2 |        100.0000 |          0.0 |          nan |\n",
    "| 0.500 | 100 | 3 |        150.0000 |          0.0 |          nan |\n",
    "| 1.000 |   1 | 1 |          0.8419 |          0.0 |          0.0 |\n",
    "| 1.000 |   1 | 2 |          1.3567 |          0.4 |          0.0 |\n",
    "| 1.000 |   1 | 3 |          2.4603 |          0.1 |          0.0 |\n",
    "| 1.000 |  10 | 1 |          6.9478 |          0.2 |          0.0 |\n",
    "| 1.000 |  10 | 2 |         11.2608 |          0.3 |          0.0 |\n",
    "| 1.000 |  10 | 3 |         21.2935 |          0.3 |          0.0 |\n",
    "| 1.000 | 100 | 1 |         63.7954 |          0.3 |          0.0 |\n",
    "| 1.000 | 100 | 2 |         92.0392 |          0.4 |          0.0 |\n",
    "| 1.000 | 100 | 3 |         99.0496 |          0.5 |          0.1 |"
   ]
  },
  {
   "cell_type": "markdown",
   "metadata": {},
   "source": [
    "The code above is benchmarked against Marius' code (proof at end of notebook) and gives the same results. Furthermore, we benchmark it against the analytically computed standard error. This is can be done easily using the discrete convolution theorem, which allows us to compute the aautocorrelation with complexity $O(nlog(n))$ [1].\n",
    "\n",
    "[1]: Numerical Recipes in C: The Art of Scientific Computing, 3rd edition"
   ]
  },
  {
   "cell_type": "markdown",
   "metadata": {},
   "source": [
    "-------------------------\n",
    "## Benchmarking with Marius' code"
   ]
  },
  {
   "cell_type": "code",
   "execution_count": null,
   "metadata": {
    "collapsed": true
   },
   "outputs": [],
   "source": [
    "def block(x):\n",
    "    # preliminaries\n",
    "    n = len(x)\n",
    "    d = np.log2(n).astype(int)\n",
    "    s, gamma = np.zeros(d), np.zeros(d)\n",
    "    mu = np.mean(x)\n",
    "\n",
    "    # estimate the auto-covariance and variances \n",
    "    # for each blocking transformation\n",
    "    for i in range(0,d):\n",
    "        n = len(x)\n",
    "        # estimate autocovariance of x\n",
    "        gamma[i] = (n-1)**(-1)*np.sum( (x[0:(n-1)]-mu)*(x[1:n]-mu) )\n",
    "        # estimate variance of x\n",
    "        s[i] = np.var(x, ddof=1)\n",
    "        # perform blocking transformation\n",
    "        x = 0.5*(x[0::2] + x[1::2])\n",
    "        \n",
    "    # generate the test observator Z_k from the theorem\n",
    "\n",
    "    Z = (np.cumsum( ((gamma/s)**2*2**np.arange(1,d+1)[::-1])[::-1] )  )[::-1]\n",
    "    # we need a list of magic numbers\n",
    "    q = np.array([6.634897,9.210340, 11.344867, 13.276704, 15.086272, 16.811894, 18.475307, 20.090235, 21.665994, 23.209251, 24.724970, 26.216967, 27.688250, 29.141238, 30.577914, 31.999927, 33.408664, 34.805306, 36.190869, 37.566235, 38.932173, 40.289360, 41.638398, 42.979820, 44.314105, 45.641683, 46.962942, 48.278236, 49.587884, 50.892181])\n",
    "\n",
    "    # use magic to determine when we should have stopped blocking\n",
    "    for k in np.arange(0,d):\n",
    "        if(Z[k] < q[k]):\n",
    "            break\n",
    "    return s[k]/2**(d-k)"
   ]
  },
  {
   "cell_type": "code",
   "execution_count": null,
   "metadata": {},
   "outputs": [],
   "source": [
    "print(' Difference between my and Marius\\' implementation')\n",
    "for result in MCMC_results.values():\n",
    "    e = result.energies\n",
    "    print('-'*50)\n",
    "    print(block(e[:2**int(np.log2(len(e)))])-realistic_variance(e))"
   ]
  },
  {
   "cell_type": "markdown",
   "metadata": {},
   "source": [
    "## Benchmarking with analytical solution"
   ]
  },
  {
   "cell_type": "code",
   "execution_count": null,
   "metadata": {},
   "outputs": [],
   "source": [
    "e = MCMC_results[1, 1, 3].energies\n",
    "n = len(e)\n",
    "acov = acovf(e, fft=True)\n",
    "k = np.arange(0, len(acov))\n",
    "(((n-k)/n)*acov)[0], acov[0]"
   ]
  },
  {
   "cell_type": "code",
   "execution_count": null,
   "metadata": {},
   "outputs": [],
   "source": [
    "def true_variance(e):\n",
    "    n = len(e)\n",
    "    acov = acovf(e, fft=True)\n",
    "    k = np.arange(0, n)\n",
    "    acov_prefix = (n-k)/n\n",
    "    se = (2*np.sum((n-k)*acov/n) - acov[0])/n\n",
    "\n",
    "    return se\n",
    "    \n",
    "for result in MCMC_results.values():\n",
    "    e = result.energies\n",
    "    print('-'*50)\n",
    "    print(realistic_variance(e), true_variance(e))"
   ]
  },
  {
   "cell_type": "code",
   "execution_count": null,
   "metadata": {
    "collapsed": true
   },
   "outputs": [],
   "source": []
  },
  {
   "cell_type": "code",
   "execution_count": null,
   "metadata": {
    "collapsed": true
   },
   "outputs": [],
   "source": []
  }
 ],
 "metadata": {
  "kernelspec": {
   "display_name": "Python 3",
   "language": "python",
   "name": "python3"
  },
  "language_info": {
   "codemirror_mode": {
    "name": "ipython",
    "version": 3
   },
   "file_extension": ".py",
   "mimetype": "text/x-python",
   "name": "python",
   "nbconvert_exporter": "python",
   "pygments_lexer": "ipython3",
   "version": "3.6.4"
  },
  "toc": {
   "base_numbering": 1,
   "nav_menu": {},
   "number_sections": true,
   "sideBar": true,
   "skip_h1_title": false,
   "title_cell": "Table of Contents",
   "title_sidebar": "Contents",
   "toc_cell": false,
   "toc_position": {},
   "toc_section_display": true,
   "toc_window_display": false
  },
  "varInspector": {
   "cols": {
    "lenName": 16,
    "lenType": 16,
    "lenVar": 40
   },
   "kernels_config": {
    "python": {
     "delete_cmd_postfix": "",
     "delete_cmd_prefix": "del ",
     "library": "var_list.py",
     "varRefreshCmd": "print(var_dic_list())"
    },
    "r": {
     "delete_cmd_postfix": ") ",
     "delete_cmd_prefix": "rm(",
     "library": "var_list.r",
     "varRefreshCmd": "cat(var_dic_list()) "
    }
   },
   "types_to_exclude": [
    "module",
    "function",
    "builtin_function_or_method",
    "instance",
    "_Feature"
   ],
   "window_display": false
  }
 },
 "nbformat": 4,
 "nbformat_minor": 2
}
